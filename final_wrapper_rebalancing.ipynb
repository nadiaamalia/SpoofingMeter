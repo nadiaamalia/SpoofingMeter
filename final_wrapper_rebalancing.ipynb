{
 "cells": [
  {
   "cell_type": "code",
   "execution_count": 1,
   "metadata": {
    "collapsed": true
   },
   "outputs": [],
   "source": [
    "import pandas as pd\n",
    "import numpy as np\n",
    "import pickle\n",
    "from joblib import dump, load\n",
    "import matplotlib.pyplot as plt"
   ]
  },
  {
   "cell_type": "code",
   "execution_count": 2,
   "metadata": {
    "collapsed": true
   },
   "outputs": [],
   "source": [
    "def read_data_small():\n",
    "    X_train = pd.read_csv(\"data_small/X_train_small.csv\")\n",
    "    X_test = pd.read_csv(\"data_small/X_test_small.csv\")\n",
    "    y_train = np.asarray(pd.read_csv(\"data_small/y_train_small.csv\", header=None)[0])\n",
    "    return X_train, X_test, y_train"
   ]
  },
  {
   "cell_type": "code",
   "execution_count": 3,
   "metadata": {
    "collapsed": true
   },
   "outputs": [],
   "source": [
    "def read_data_big():\n",
    "    X_train = pd.read_csv(\"data_big/X_train_big.csv\")\n",
    "    X_test = pd.read_csv(\"data_big/X_test_big.csv\")\n",
    "    y_train = np.asarray(pd.read_csv(\"data_big/y_train_big.csv\", header=None)[0])\n",
    "    return X_train, X_test, y_train"
   ]
  },
  {
   "cell_type": "code",
   "execution_count": 4,
   "metadata": {
    "collapsed": true
   },
   "outputs": [],
   "source": [
    "def read_data():\n",
    "    X_train = pd.read_csv(\"data/X_train.csv\")\n",
    "    X_test = pd.read_csv(\"data/X_test.csv\")\n",
    "    y_train = np.asarray(pd.read_csv(\"data/y_train.csv\", header=None)[0])\n",
    "    return X_train, X_test, y_train"
   ]
  },
  {
   "cell_type": "markdown",
   "metadata": {},
   "source": [
    "# Visualization"
   ]
  },
  {
   "cell_type": "code",
   "execution_count": 5,
   "metadata": {
    "collapsed": false
   },
   "outputs": [],
   "source": [
    "X_train, X_test, y_train = read_data_small()\n",
    "X_train['y_label'] = y_train\n",
    "X_train[\"timeSinceLastTradeSameOrder\"] = X_train[[\"timestamp\",\"orderId\"]].groupby(\"orderId\").diff()\n",
    "X_train.loc[(X_train['timeSinceLastTradeSameOrder']<=45) & (X_train['source']!='SYSTEM'),'y_label']= 3"
   ]
  },
  {
   "cell_type": "code",
   "execution_count": 15,
   "metadata": {
    "collapsed": false
   },
   "outputs": [
    {
     "data": {
      "image/png": "[encoded data removed]",
      "text/plain": [
       "<Figure size 432x288 with 1 Axes>"
      ]
     },
     "metadata": {},
     "output_type": "display_data"
    }
   ],
   "source": [
    "plot1 = X_train[['timestamp','y_label']]\n",
    "plot1 = plot1[plot1.y_label!=0]\n",
    "plot1a = plot1[plot1.y_label==1]\n",
    "plot1b = plot1[plot1.y_label==2]\n",
    "plot1c = plot1[plot1.y_label==3]\n",
    "\n",
    "plt.scatter(plot1a['timestamp'],plot1a['y_label'],color='red')\n",
    "plt.scatter(plot1b['timestamp'],plot1b['y_label'],color='blue')\n",
    "plt.scatter(plot1c['timestamp'],plot1c['y_label'],color='green')\n",
    "plt.show()"
   ]
  },
  {
   "cell_type": "code",
   "execution_count": 16,
   "metadata": {
    "collapsed": false
   },
   "outputs": [
    {
     "name": "stderr",
     "output_type": "stream",
     "text": [
      "/Users/fransiscasusan/anaconda3/lib/python3.6/site-packages/ipykernel/__main__.py:4: DataConversionWarning: Data with input dtype bool, uint8, int64, float64, object were all converted to float64 by the scale function.\n",
      "/Users/fransiscasusan/anaconda3/lib/python3.6/site-packages/sklearn/preprocessing/data.py:180: UserWarning: Numerical issues were encountered when centering the data and might not be solved. Dataset may contain too large values. You may need to prescale your features.\n",
      "  warnings.warn(\"Numerical issues were encountered \"\n",
      "/Users/fransiscasusan/anaconda3/lib/python3.6/site-packages/ipykernel/__main__.py:5: DataConversionWarning: Data with input dtype bool, uint8, int64, float64, object were all converted to float64 by the scale function.\n",
      "/Users/fransiscasusan/anaconda3/lib/python3.6/site-packages/sklearn/preprocessing/data.py:180: UserWarning: Numerical issues were encountered when centering the data and might not be solved. Dataset may contain too large values. You may need to prescale your features.\n",
      "  warnings.warn(\"Numerical issues were encountered \"\n",
      "/Users/fransiscasusan/anaconda3/lib/python3.6/site-packages/sklearn/linear_model/logistic.py:433: FutureWarning: Default solver will be changed to 'lbfgs' in 0.22. Specify a solver to silence this warning.\n",
      "  FutureWarning)\n",
      "/Users/fransiscasusan/anaconda3/lib/python3.6/site-packages/sklearn/linear_model/logistic.py:460: FutureWarning: Default multi_class will be changed to 'auto' in 0.22. Specify the multi_class option to silence this warning.\n",
      "  \"this warning.\", FutureWarning)\n"
     ]
    }
   ],
   "source": [
    "X_clean = format_data(pd.concat([X_train, X_test]))\n",
    "X_train_clean = X_clean.iloc[:X_train.shape[0],:]\n",
    "X_test_clean = X_clean.iloc[X_train.shape[0]:,:]\n",
    "X_train_clean_scaled = scale(X_train_clean)\n",
    "X_test_clean_scaled = scale(X_test_clean)\n",
    "\n",
    "# fit classifier\n",
    "clf = LogisticRegression(random_state=0, class_weight='balanced').fit(X_train_clean_scaled, y_train)\n",
    "y_train_prob_pred = clf.predict_proba(X_train_clean_scaled)\n",
    "y_test_prob_pred = clf.predict_proba(X_test_clean_scaled)"
   ]
  },
  {
   "cell_type": "code",
   "execution_count": 17,
   "metadata": {
    "collapsed": false
   },
   "outputs": [],
   "source": [
    "X_train['y_pred_0'] = y_train_prob_pred[:,0]\n",
    "X_train['y_pred_1'] = y_train_prob_pred[:,1]\n",
    "X_train['y_pred_2'] = y_train_prob_pred[:,2]"
   ]
  },
  {
   "cell_type": "markdown",
   "metadata": {},
   "source": [
    "Example for user 'KYPPWBZJQ'"
   ]
  },
  {
   "cell_type": "code",
   "execution_count": 18,
   "metadata": {
    "collapsed": false
   },
   "outputs": [
    {
     "data": {
      "image/png": "[encoded data removed]",
      "text/plain": [
       "<Figure size 432x288 with 1 Axes>"
      ]
     },
     "metadata": {},
     "output_type": "display_data"
    }
   ],
   "source": [
    "ex1 = X_train[X_train['endUserRef']=='KYPPWBZJQ'].iloc[3]\n",
    "# Pie chart, where the slices will be ordered and plotted counter-clockwise:\n",
    "labels = 'class0','class1','class2','class3'\n",
    "ex = ex1\n",
    "sizes = [ex.y_pred_0,ex.y_pred_1,ex.y_pred_2,1-ex.y_pred_0-ex.y_pred_1-ex.y_pred_2]\n",
    "explode = (0, 0.1, 0, 0)  # only \"explode\" the 2nd slice (i.e. 'Hogs')\n",
    "\n",
    "fig1, ax1 = plt.subplots()\n",
    "ax1.pie(sizes, explode=explode, labels=labels, autopct='%1.1f%%',\n",
    "        shadow=True, startangle=90)\n",
    "ax1.axis('equal')  # Equal aspect ratio ensures that pie is drawn as a circle.\n",
    "\n",
    "plt.show()"
   ]
  },
  {
   "cell_type": "code",
   "execution_count": 19,
   "metadata": {
    "collapsed": false
   },
   "outputs": [
    {
     "data": {
      "image/png": "[encoded data removed]",
      "text/plain": [
       "<Figure size 432x288 with 1 Axes>"
      ]
     },
     "metadata": {},
     "output_type": "display_data"
    }
   ],
   "source": [
    "ex2 = X_train[X_train['endUserRef']=='KYPPWBZJQ'].iloc[4]\n",
    "# Pie chart, where the slices will be ordered and plotted counter-clockwise:\n",
    "labels = 'class0','class1','class2','class3'\n",
    "ex = ex2\n",
    "sizes = [ex.y_pred_0,ex.y_pred_1,ex.y_pred_2,1-ex.y_pred_0-ex.y_pred_1-ex.y_pred_2]\n",
    "explode = (0, 0.1, 0, 0)  # only \"explode\" the 2nd slice (i.e. 'Hogs')\n",
    "\n",
    "fig1, ax1 = plt.subplots()\n",
    "ax1.pie(sizes, explode=explode, labels=labels, autopct='%1.1f%%',\n",
    "        shadow=True, startangle=90)\n",
    "ax1.axis('equal')  # Equal aspect ratio ensures that pie is drawn as a circle.\n",
    "\n",
    "plt.show()"
   ]
  },
  {
   "cell_type": "code",
   "execution_count": 20,
   "metadata": {
    "collapsed": false
   },
   "outputs": [
    {
     "data": {
      "image/png": "[encoded data removed]",
      "text/plain": [
       "<Figure size 432x288 with 1 Axes>"
      ]
     },
     "metadata": {},
     "output_type": "display_data"
    }
   ],
   "source": [
    "ex3 = X_train[X_train['endUserRef']=='KYPPWBZJQ'].iloc[5]\n",
    "# Pie chart, where the slices will be ordered and plotted counter-clockwise:\n",
    "labels = 'class0','class1','class2','class3'\n",
    "ex = ex3\n",
    "sizes = [ex.y_pred_0,ex.y_pred_1,ex.y_pred_2,1-ex.y_pred_0-ex.y_pred_1-ex.y_pred_2]\n",
    "explode = (0, 0.1, 0, 0)  # only \"explode\" the 2nd slice (i.e. 'Hogs')\n",
    "\n",
    "fig1, ax1 = plt.subplots()\n",
    "ax1.pie(sizes, explode=explode, labels=labels, autopct='%1.1f%%',\n",
    "        shadow=True, startangle=90)\n",
    "ax1.axis('equal')  # Equal aspect ratio ensures that pie is drawn as a circle.\n",
    "\n",
    "plt.show()"
   ]
  },
  {
   "cell_type": "code",
   "execution_count": 21,
   "metadata": {
    "collapsed": false
   },
   "outputs": [
    {
     "data": {
      "image/png": "[encoded data removed]",
      "text/plain": [
       "<Figure size 432x288 with 1 Axes>"
      ]
     },
     "metadata": {},
     "output_type": "display_data"
    }
   ],
   "source": [
    "ex4 = X_train[X_train['endUserRef']=='KYPPWBZJQ'].iloc[6]\n",
    "# Pie chart, where the slices will be ordered and plotted counter-clockwise:\n",
    "labels = 'class0','class1','class2','class3'\n",
    "ex = ex4\n",
    "sizes = [ex.y_pred_0,ex.y_pred_1,ex.y_pred_2,1-ex.y_pred_0-ex.y_pred_1-ex.y_pred_2]\n",
    "explode = (0, 0.1, 0, 0)  # only \"explode\" the 2nd slice (i.e. 'Hogs')\n",
    "\n",
    "fig1, ax1 = plt.subplots()\n",
    "ax1.pie(sizes, explode=explode, labels=labels, autopct='%1.1f%%',\n",
    "        shadow=True, startangle=90)\n",
    "ax1.axis('equal')  # Equal aspect ratio ensures that pie is drawn as a circle.\n",
    "\n",
    "plt.show()"
   ]
  },
  {
   "cell_type": "markdown",
   "metadata": {},
   "source": [
    "Example for user 'AIWZOZZIY'"
   ]
  },
  {
   "cell_type": "code",
   "execution_count": 22,
   "metadata": {
    "collapsed": false
   },
   "outputs": [
    {
     "data": {
      "image/png": "[encoded data removed]",
      "text/plain": [
       "<Figure size 432x288 with 1 Axes>"
      ]
     },
     "metadata": {},
     "output_type": "display_data"
    }
   ],
   "source": [
    "ex1 = X_train[X_train['endUserRef']=='AIWZOZZIY'].iloc[5]\n",
    "# Pie chart, where the slices will be ordered and plotted counter-clockwise:\n",
    "labels = 'class0','class1','class2','class3'\n",
    "ex = ex1\n",
    "sizes = [ex.y_pred_0,ex.y_pred_1,ex.y_pred_2,1-ex.y_pred_0-ex.y_pred_1-ex.y_pred_2]\n",
    "explode = (0, 0.1, 0, 0)  # only \"explode\" the 2nd slice (i.e. 'Hogs')\n",
    "\n",
    "fig1, ax1 = plt.subplots()\n",
    "ax1.pie(sizes, explode=explode, labels=labels, autopct='%1.1f%%',\n",
    "        shadow=True, startangle=90)\n",
    "ax1.axis('equal')  # Equal aspect ratio ensures that pie is drawn as a circle.\n",
    "\n",
    "plt.show()"
   ]
  },
  {
   "cell_type": "code",
   "execution_count": 23,
   "metadata": {
    "collapsed": false
   },
   "outputs": [
    {
     "data": {
      "image/png": "[encoded data removed]",
      "text/plain": [
       "<Figure size 432x288 with 1 Axes>"
      ]
     },
     "metadata": {},
     "output_type": "display_data"
    }
   ],
   "source": [
    "ex2 = X_train[X_train['endUserRef']=='AIWZOZZIY'].iloc[6]\n",
    "# Pie chart, where the slices will be ordered and plotted counter-clockwise:\n",
    "labels = 'class0','class1','class2','class3'\n",
    "ex = ex2\n",
    "sizes = [ex.y_pred_0,ex.y_pred_1,ex.y_pred_2,1-ex.y_pred_0-ex.y_pred_1-ex.y_pred_2]\n",
    "explode = (0, 0.1, 0, 0)  # only \"explode\" the 2nd slice (i.e. 'Hogs')\n",
    "\n",
    "fig1, ax1 = plt.subplots()\n",
    "ax1.pie(sizes, explode=explode, labels=labels, autopct='%1.1f%%',\n",
    "        shadow=True, startangle=90)\n",
    "ax1.axis('equal')  # Equal aspect ratio ensures that pie is drawn as a circle.\n",
    "\n",
    "plt.show()"
   ]
  },
  {
   "cell_type": "code",
   "execution_count": 24,
   "metadata": {
    "collapsed": true
   },
   "outputs": [
    {
     "data": {
      "text/html": [
       "<div>\n",
       "<style>\n",
       "    .dataframe thead tr:only-child th {\n",
       "        text-align: right;\n",
       "    }\n",
       "\n",
       "    .dataframe thead th {\n",
       "        text-align: left;\n",
       "    }\n",
       "\n",
       "    .dataframe tbody tr th {\n",
       "        vertical-align: top;\n",
       "    }\n",
       "</style>\n",
       "<table border=\"1\" class=\"dataframe\">\n",
       "  <thead>\n",
       "    <tr style=\"text-align: right;\">\n",
       "      <th></th>\n",
       "      <th>endUserRef</th>\n",
       "      <th>cancel_ratio</th>\n",
       "    </tr>\n",
       "  </thead>\n",
       "  <tbody>\n",
       "    <tr>\n",
       "      <th>426</th>\n",
       "      <td>XMUCLTPRE</td>\n",
       "      <td>0.500000</td>\n",
       "    </tr>\n",
       "    <tr>\n",
       "      <th>209</th>\n",
       "      <td>LORNYJXOQ</td>\n",
       "      <td>0.500000</td>\n",
       "    </tr>\n",
       "    <tr>\n",
       "      <th>215</th>\n",
       "      <td>LTFCBQMNY</td>\n",
       "      <td>0.500000</td>\n",
       "    </tr>\n",
       "    <tr>\n",
       "      <th>172</th>\n",
       "      <td>JRXVRUZHN</td>\n",
       "      <td>0.500000</td>\n",
       "    </tr>\n",
       "    <tr>\n",
       "      <th>50</th>\n",
       "      <td>CVNUXBZKR</td>\n",
       "      <td>0.500000</td>\n",
       "    </tr>\n",
       "    <tr>\n",
       "      <th>312</th>\n",
       "      <td>QSCFKVKEC</td>\n",
       "      <td>0.500000</td>\n",
       "    </tr>\n",
       "    <tr>\n",
       "      <th>47</th>\n",
       "      <td>CTIXWOXEW</td>\n",
       "      <td>0.500000</td>\n",
       "    </tr>\n",
       "    <tr>\n",
       "      <th>117</th>\n",
       "      <td>GFVLNPXDD</td>\n",
       "      <td>0.500000</td>\n",
       "    </tr>\n",
       "    <tr>\n",
       "      <th>466</th>\n",
       "      <td>ZQPWPEHVW</td>\n",
       "      <td>0.500000</td>\n",
       "    </tr>\n",
       "    <tr>\n",
       "      <th>398</th>\n",
       "      <td>VSPEANCCY</td>\n",
       "      <td>0.400000</td>\n",
       "    </tr>\n",
       "    <tr>\n",
       "      <th>112</th>\n",
       "      <td>GCJJEUXTK</td>\n",
       "      <td>0.384615</td>\n",
       "    </tr>\n",
       "    <tr>\n",
       "      <th>248</th>\n",
       "      <td>NKMVFSQWN</td>\n",
       "      <td>0.350000</td>\n",
       "    </tr>\n",
       "    <tr>\n",
       "      <th>415</th>\n",
       "      <td>WVWFGDJNC</td>\n",
       "      <td>0.347826</td>\n",
       "    </tr>\n",
       "    <tr>\n",
       "      <th>242</th>\n",
       "      <td>NAKFIKTBH</td>\n",
       "      <td>0.343750</td>\n",
       "    </tr>\n",
       "    <tr>\n",
       "      <th>141</th>\n",
       "      <td>IAYCWPKLG</td>\n",
       "      <td>0.338710</td>\n",
       "    </tr>\n",
       "    <tr>\n",
       "      <th>278</th>\n",
       "      <td>PGWSDARTD</td>\n",
       "      <td>0.338462</td>\n",
       "    </tr>\n",
       "    <tr>\n",
       "      <th>197</th>\n",
       "      <td>KYPPWBZJQ</td>\n",
       "      <td>0.338235</td>\n",
       "    </tr>\n",
       "    <tr>\n",
       "      <th>244</th>\n",
       "      <td>NEEIBAPJN</td>\n",
       "      <td>0.333333</td>\n",
       "    </tr>\n",
       "    <tr>\n",
       "      <th>367</th>\n",
       "      <td>UPIOAMFRB</td>\n",
       "      <td>0.333333</td>\n",
       "    </tr>\n",
       "    <tr>\n",
       "      <th>464</th>\n",
       "      <td>ZOANLCGBZ</td>\n",
       "      <td>0.333333</td>\n",
       "    </tr>\n",
       "    <tr>\n",
       "      <th>191</th>\n",
       "      <td>KVTYDHEBO</td>\n",
       "      <td>0.333333</td>\n",
       "    </tr>\n",
       "    <tr>\n",
       "      <th>338</th>\n",
       "      <td>SRZMLTTPD</td>\n",
       "      <td>0.333333</td>\n",
       "    </tr>\n",
       "    <tr>\n",
       "      <th>64</th>\n",
       "      <td>DNYPSTAAZ</td>\n",
       "      <td>0.329114</td>\n",
       "    </tr>\n",
       "    <tr>\n",
       "      <th>158</th>\n",
       "      <td>IOVKOVDTU</td>\n",
       "      <td>0.327586</td>\n",
       "    </tr>\n",
       "    <tr>\n",
       "      <th>470</th>\n",
       "      <td>ZVPZUAKWE</td>\n",
       "      <td>0.327586</td>\n",
       "    </tr>\n",
       "    <tr>\n",
       "      <th>263</th>\n",
       "      <td>OOENXNSEM</td>\n",
       "      <td>0.318182</td>\n",
       "    </tr>\n",
       "    <tr>\n",
       "      <th>40</th>\n",
       "      <td>CEQESEKUA</td>\n",
       "      <td>0.316456</td>\n",
       "    </tr>\n",
       "    <tr>\n",
       "      <th>91</th>\n",
       "      <td>ERNFZXWDE</td>\n",
       "      <td>0.315789</td>\n",
       "    </tr>\n",
       "    <tr>\n",
       "      <th>469</th>\n",
       "      <td>ZUMXUFFPV</td>\n",
       "      <td>0.312500</td>\n",
       "    </tr>\n",
       "    <tr>\n",
       "      <th>277</th>\n",
       "      <td>PFUEEKGFK</td>\n",
       "      <td>0.309859</td>\n",
       "    </tr>\n",
       "    <tr>\n",
       "      <th>...</th>\n",
       "      <td>...</td>\n",
       "      <td>...</td>\n",
       "    </tr>\n",
       "    <tr>\n",
       "      <th>35</th>\n",
       "      <td>BYMZWWYEF</td>\n",
       "      <td>0.111111</td>\n",
       "    </tr>\n",
       "    <tr>\n",
       "      <th>253</th>\n",
       "      <td>NUWCAYWOZ</td>\n",
       "      <td>0.111111</td>\n",
       "    </tr>\n",
       "    <tr>\n",
       "      <th>243</th>\n",
       "      <td>NDOQYEPUD</td>\n",
       "      <td>0.108108</td>\n",
       "    </tr>\n",
       "    <tr>\n",
       "      <th>152</th>\n",
       "      <td>ILMBJZFDL</td>\n",
       "      <td>0.107143</td>\n",
       "    </tr>\n",
       "    <tr>\n",
       "      <th>445</th>\n",
       "      <td>YETOLZSMJ</td>\n",
       "      <td>0.107143</td>\n",
       "    </tr>\n",
       "    <tr>\n",
       "      <th>378</th>\n",
       "      <td>UYZNRUYLJ</td>\n",
       "      <td>0.105263</td>\n",
       "    </tr>\n",
       "    <tr>\n",
       "      <th>86</th>\n",
       "      <td>EILSGVPPE</td>\n",
       "      <td>0.105263</td>\n",
       "    </tr>\n",
       "    <tr>\n",
       "      <th>287</th>\n",
       "      <td>PVSFLJQKQ</td>\n",
       "      <td>0.105263</td>\n",
       "    </tr>\n",
       "    <tr>\n",
       "      <th>157</th>\n",
       "      <td>IOPLBXXUJ</td>\n",
       "      <td>0.102564</td>\n",
       "    </tr>\n",
       "    <tr>\n",
       "      <th>218</th>\n",
       "      <td>LZJJNKSUE</td>\n",
       "      <td>0.102564</td>\n",
       "    </tr>\n",
       "    <tr>\n",
       "      <th>54</th>\n",
       "      <td>DADPSNXNS</td>\n",
       "      <td>0.100000</td>\n",
       "    </tr>\n",
       "    <tr>\n",
       "      <th>354</th>\n",
       "      <td>TMKBLJZIL</td>\n",
       "      <td>0.096774</td>\n",
       "    </tr>\n",
       "    <tr>\n",
       "      <th>59</th>\n",
       "      <td>DGRPRYTFA</td>\n",
       "      <td>0.096774</td>\n",
       "    </tr>\n",
       "    <tr>\n",
       "      <th>146</th>\n",
       "      <td>ICSDRIEHZ</td>\n",
       "      <td>0.095238</td>\n",
       "    </tr>\n",
       "    <tr>\n",
       "      <th>76</th>\n",
       "      <td>DYVLJMXQU</td>\n",
       "      <td>0.095238</td>\n",
       "    </tr>\n",
       "    <tr>\n",
       "      <th>148</th>\n",
       "      <td>IHYDVBINZ</td>\n",
       "      <td>0.095238</td>\n",
       "    </tr>\n",
       "    <tr>\n",
       "      <th>443</th>\n",
       "      <td>YBTADNNKK</td>\n",
       "      <td>0.093023</td>\n",
       "    </tr>\n",
       "    <tr>\n",
       "      <th>463</th>\n",
       "      <td>ZKWLJKFXO</td>\n",
       "      <td>0.090909</td>\n",
       "    </tr>\n",
       "    <tr>\n",
       "      <th>93</th>\n",
       "      <td>EWJMNFCFD</td>\n",
       "      <td>0.090909</td>\n",
       "    </tr>\n",
       "    <tr>\n",
       "      <th>203</th>\n",
       "      <td>LDFXSBQUL</td>\n",
       "      <td>0.090909</td>\n",
       "    </tr>\n",
       "    <tr>\n",
       "      <th>427</th>\n",
       "      <td>XOKVJMWYF</td>\n",
       "      <td>0.086957</td>\n",
       "    </tr>\n",
       "    <tr>\n",
       "      <th>255</th>\n",
       "      <td>NXXKRGQAZ</td>\n",
       "      <td>0.080000</td>\n",
       "    </tr>\n",
       "    <tr>\n",
       "      <th>12</th>\n",
       "      <td>AVCPZKWEH</td>\n",
       "      <td>0.080000</td>\n",
       "    </tr>\n",
       "    <tr>\n",
       "      <th>330</th>\n",
       "      <td>RYWXNGBMU</td>\n",
       "      <td>0.076923</td>\n",
       "    </tr>\n",
       "    <tr>\n",
       "      <th>332</th>\n",
       "      <td>SFIQOSEVT</td>\n",
       "      <td>0.076923</td>\n",
       "    </tr>\n",
       "    <tr>\n",
       "      <th>196</th>\n",
       "      <td>KYBYVNXUX</td>\n",
       "      <td>0.075000</td>\n",
       "    </tr>\n",
       "    <tr>\n",
       "      <th>78</th>\n",
       "      <td>EAIFIZTTK</td>\n",
       "      <td>0.071429</td>\n",
       "    </tr>\n",
       "    <tr>\n",
       "      <th>99</th>\n",
       "      <td>FBIZHAAJU</td>\n",
       "      <td>0.068182</td>\n",
       "    </tr>\n",
       "    <tr>\n",
       "      <th>37</th>\n",
       "      <td>CCAOAIWHD</td>\n",
       "      <td>0.066667</td>\n",
       "    </tr>\n",
       "    <tr>\n",
       "      <th>303</th>\n",
       "      <td>QMKSBLOZU</td>\n",
       "      <td>0.045455</td>\n",
       "    </tr>\n",
       "  </tbody>\n",
       "</table>\n",
       "<p>471 rows × 2 columns</p>\n",
       "</div>"
      ],
      "text/plain": [
       "    endUserRef  cancel_ratio\n",
       "426  XMUCLTPRE      0.500000\n",
       "209  LORNYJXOQ      0.500000\n",
       "215  LTFCBQMNY      0.500000\n",
       "172  JRXVRUZHN      0.500000\n",
       "50   CVNUXBZKR      0.500000\n",
       "312  QSCFKVKEC      0.500000\n",
       "47   CTIXWOXEW      0.500000\n",
       "117  GFVLNPXDD      0.500000\n",
       "466  ZQPWPEHVW      0.500000\n",
       "398  VSPEANCCY      0.400000\n",
       "112  GCJJEUXTK      0.384615\n",
       "248  NKMVFSQWN      0.350000\n",
       "415  WVWFGDJNC      0.347826\n",
       "242  NAKFIKTBH      0.343750\n",
       "141  IAYCWPKLG      0.338710\n",
       "278  PGWSDARTD      0.338462\n",
       "197  KYPPWBZJQ      0.338235\n",
       "244  NEEIBAPJN      0.333333\n",
       "367  UPIOAMFRB      0.333333\n",
       "464  ZOANLCGBZ      0.333333\n",
       "191  KVTYDHEBO      0.333333\n",
       "338  SRZMLTTPD      0.333333\n",
       "64   DNYPSTAAZ      0.329114\n",
       "158  IOVKOVDTU      0.327586\n",
       "470  ZVPZUAKWE      0.327586\n",
       "263  OOENXNSEM      0.318182\n",
       "40   CEQESEKUA      0.316456\n",
       "91   ERNFZXWDE      0.315789\n",
       "469  ZUMXUFFPV      0.312500\n",
       "277  PFUEEKGFK      0.309859\n",
       "..         ...           ...\n",
       "35   BYMZWWYEF      0.111111\n",
       "253  NUWCAYWOZ      0.111111\n",
       "243  NDOQYEPUD      0.108108\n",
       "152  ILMBJZFDL      0.107143\n",
       "445  YETOLZSMJ      0.107143\n",
       "378  UYZNRUYLJ      0.105263\n",
       "86   EILSGVPPE      0.105263\n",
       "287  PVSFLJQKQ      0.105263\n",
       "157  IOPLBXXUJ      0.102564\n",
       "218  LZJJNKSUE      0.102564\n",
       "54   DADPSNXNS      0.100000\n",
       "354  TMKBLJZIL      0.096774\n",
       "59   DGRPRYTFA      0.096774\n",
       "146  ICSDRIEHZ      0.095238\n",
       "76   DYVLJMXQU      0.095238\n",
       "148  IHYDVBINZ      0.095238\n",
       "443  YBTADNNKK      0.093023\n",
       "463  ZKWLJKFXO      0.090909\n",
       "93   EWJMNFCFD      0.090909\n",
       "203  LDFXSBQUL      0.090909\n",
       "427  XOKVJMWYF      0.086957\n",
       "255  NXXKRGQAZ      0.080000\n",
       "12   AVCPZKWEH      0.080000\n",
       "330  RYWXNGBMU      0.076923\n",
       "332  SFIQOSEVT      0.076923\n",
       "196  KYBYVNXUX      0.075000\n",
       "78   EAIFIZTTK      0.071429\n",
       "99   FBIZHAAJU      0.068182\n",
       "37   CCAOAIWHD      0.066667\n",
       "303  QMKSBLOZU      0.045455\n",
       "\n",
       "[471 rows x 2 columns]"
      ]
     },
     "execution_count": 24,
     "metadata": {},
     "output_type": "execute_result"
    }
   ],
   "source": [
    "cancel_ratio = X_train[['endUserRef','operation','price']].groupby(['endUserRef','operation']).count()\n",
    "cancel_ratio = cancel_ratio/cancel_ratio.groupby(['endUserRef']).sum()\n",
    "cancel_ratio = cancel_ratio.reset_index()\n",
    "cancel_ratio = cancel_ratio[cancel_ratio.operation == 'CANCEL'].rename(columns={'price':'cancel_ratio'}).reset_index().drop(['index','operation'], axis=1)\n",
    "cancel_ratio = cancel_ratio.sort_values(by='cancel_ratio',ascending=False)\n",
    "cancel_ratio"
   ]
  },
  {
   "cell_type": "code",
   "execution_count": null,
   "metadata": {
    "collapsed": false
   },
   "outputs": [],
   "source": [
    "np.arange(0,1,0.2)"
   ]
  },
  {
   "cell_type": "code",
   "execution_count": null,
   "metadata": {
    "collapsed": false
   },
   "outputs": [],
   "source": [
    "plt.rcdefaults()\n",
    "fig, ax = plt.subplots()\n",
    "ax.barh(cancel_ratio[8:18]['endUserRef'],cancel_ratio[8:18]['cancel_ratio']*100)\n",
    "ax.set_xlabel('Cancel Percentage')\n",
    "ax.set_title('User vs. Cancel Ratio')\n",
    "plt.show()"
   ]
  },
  {
   "cell_type": "code",
   "execution_count": null,
   "metadata": {
    "collapsed": true
   },
   "outputs": [],
   "source": [
    "y_train = X_train['y_label']\n",
    "X_train = X_train.drop(['y_label'],axis=1)\n",
    "X_train[\"timeSinceLastTrade\"] = X_train[[\"timestamp\",\"endUserRef\"]].groupby(\"endUserRef\").diff()\n",
    "X_test[\"timeSinceLastTrade\"] = X_test[[\"timestamp\",\"endUserRef\"]].groupby(\"endUserRef\").diff()"
   ]
  },
  {
   "cell_type": "code",
   "execution_count": null,
   "metadata": {
    "collapsed": true
   },
   "outputs": [],
   "source": [
    "X_train, X_test, y_train = read_data()\n",
    "X_train['y_label'] = y_train"
   ]
  },
  {
   "cell_type": "code",
   "execution_count": null,
   "metadata": {
    "collapsed": true
   },
   "outputs": [],
   "source": [
    "X_train[\"timeSinceLastTradeSameOrder\"] = X_train[[\"timestamp\",\"orderId\"]].groupby(\"orderId\").diff()\n",
    "X_train.loc[(X_train['timeSinceLastTradeSameOrder']<=45) & (X_train['source']!='SYSTEM'),'y_label']= 3\n",
    "y_train = X_train['y_label']\n",
    "X_train = X_train.drop(['y_label'],axis=1)\n",
    "X_train[\"timeSinceLastTrade\"] = X_train[[\"timestamp\",\"endUserRef\"]].groupby(\"endUserRef\").diff()\n",
    "X_test[\"timeSinceLastTrade\"] = X_test[[\"timestamp\",\"endUserRef\"]].groupby(\"endUserRef\").diff()"
   ]
  },
  {
   "cell_type": "code",
   "execution_count": null,
   "metadata": {
    "collapsed": true
   },
   "outputs": [],
   "source": [
    "pd.DataFrame(X_train).to_csv(\"bigLabeledData.csv\")"
   ]
  },
  {
   "cell_type": "code",
   "execution_count": 5,
   "metadata": {
    "collapsed": true
   },
   "outputs": [],
   "source": [
    "def preprocess_label(X_train, y_train):\n",
    "    X_train['y_label'] = y_train\n",
    "    X_train[\"timeSinceLastTradeSameOrder\"] = X_train[[\"timestamp\",\"orderId\"]].groupby(\"orderId\").diff()\n",
    "    X_train.loc[(X_train['timeSinceLastTradeSameOrder']<=45) & (X_train['source']!='SYSTEM'),'y_label']= 3\n",
    "    y_train = X_train['y_label']\n",
    "    X_train = X_train.drop(['y_label'],axis=1)\n",
    "    X_train[\"timeSinceLastTrade\"] = X_train[[\"timestamp\",\"endUserRef\"]].groupby(\"endUserRef\").diff()\n",
    "    X_test[\"timeSinceLastTrade\"] = X_test[[\"timestamp\",\"endUserRef\"]].groupby(\"endUserRef\").diff()\n",
    "#     X_train = X_train.sample(n=200000)\n",
    "    return X_train,y_train"
   ]
  },
  {
   "cell_type": "code",
   "execution_count": 23,
   "metadata": {
    "collapsed": false
   },
   "outputs": [],
   "source": [
    "def balance_data(X_train, X_test, y_train):\n",
    "    X_train, y_train = preprocess_label(X_train, y_train)\n",
    "    X_train['y_label'] = y_train\n",
    "    X_train_0 = X_train[X_train['y_label']==0].sample(n=100000, replace = True)\n",
    "    X_train_1 = X_train[X_train['y_label']==1].sample(n=100000, replace = True)\n",
    "    X_train_2 = X_train[X_train['y_label']==2].sample(n=100000, replace = True)\n",
    "    X_train_3 = X_train[X_train['y_label']==3].sample(n=100000, replace = True)\n",
    "    X_train = pd.concat([X_train_0, X_train_1, X_train_2, X_train_3])\n",
    "    X_train = X_train.sample(frac=1).reset_index(drop=True)\n",
    "    y_train = X_train['y_label']\n",
    "    X_train = X_train.drop(['y_label'],axis=1)\n",
    "    return X_train, X_test, y_train"
   ]
  },
  {
   "cell_type": "code",
   "execution_count": 28,
   "metadata": {
    "collapsed": false
   },
   "outputs": [],
   "source": [
    "X_train, X_test, y_train = read_data_small()\n",
    "X_train, X_test, y_train = balance_data(X_train, X_test, y_train)"
   ]
  },
  {
   "cell_type": "code",
   "execution_count": 13,
   "metadata": {
    "collapsed": true
   },
   "outputs": [],
   "source": [
    "def format_data(df):\n",
    "    # encode the binaries\n",
    "    df[\"isBid\"] = df.isBid*1\n",
    "    df[\"isBuyer\"] = df.isBuyer*1\n",
    "    df[\"isAggressor\"] = df.isAggressor*1\n",
    "    df[\"type\"] = (df.type == \"ORDER\")*1\n",
    "    df[\"source\"] = (df.source==\"USER\")*1\n",
    "\n",
    "    df[\"orderId\"] = df.orderId.str.split('-').str[-1]\n",
    "    df[\"tradeId\"] = df.tradeId.str.split('-').str[-1]\n",
    "    df[\"bidOrderId\"] = df.bidOrderId.str.split('-').str[-1]\n",
    "    df[\"askOrderId\"] = df.askOrderId.str.split('-').str[-1]\n",
    "\n",
    "    # encode the multiple lable data\n",
    "    df['operation'] = df['operation'].fillna('SUCCESS')\n",
    "    tmp_operation = pd.DataFrame(pd.get_dummies(df.operation), columns=df.operation.unique()[:-1])\n",
    "    df = pd.concat([df, tmp_operation], axis=1)\n",
    "    df['op_before'] = df.groupby(['endUserRef'])['operation'].transform(lambda x:x.shift(1))\n",
    "    tmp_op_before = pd.DataFrame(pd.get_dummies(df.op_before), columns=df.op_before.unique()[:-1])\n",
    "    df = pd.concat([df, tmp_op_before], axis=1)\n",
    "    df['multiple_cancel'] = ((df['op_before'] == 'CANCEL') & (df['operation'] == 'CANCEL'))*1.0    \n",
    "\n",
    "    df['vol_before'] = df.groupby(['endUserRef'])['volume'].transform(lambda x:x.shift(1))\n",
    "    df['price_before'] = df.groupby(['endUserRef'])['price'].transform(lambda x:x.shift(1))\n",
    "    df['bestBid'] = df['bestBid'].fillna(1)\n",
    "    df['midpoint'] = (df.bestBidVolume - df.bestAskVolume)/df.bestBid\n",
    "\n",
    "#     cancel_ratio = df[['endUserRef','operation','price']].groupby(['endUserRef','operation']).count()\n",
    "#     cancel_ratio = cancel_ratio/cancel_ratio.groupby(['endUserRef']).sum()\n",
    "#     cancel_ratio = cancel_ratio.reset_index()\n",
    "#     cancel_ratio = cancel_ratio[cancel_ratio.operation == 'CANCEL'].rename(columns={'price':'cancel_ratio'}).reset_index().drop(['index','operation'], axis=1)\n",
    "#     df = df.merge(cancel_ratio, how='outer', on='endUserRef')\n",
    "\n",
    "    df['isBidBefore'] = df.groupby(['endUserRef'])['isBid'].transform(lambda x:x.shift(1))\n",
    "    df.loc[df['isBid']!=df['isBidBefore'],'flip'] = 1\n",
    "    df.loc[df['isBid']==df['isBidBefore'],'flip'] = 0\n",
    "    df = df.drop(['isBidBefore'],axis=1)\n",
    "\n",
    "#     categorical data\n",
    "    tmp_endUserRef = pd.DataFrame(pd.get_dummies(df.endUserRef), columns=df.endUserRef.unique()[:-1])\n",
    "    df = pd.concat([df, tmp_endUserRef], axis=1)\n",
    "    tmp_ob = pd.DataFrame(pd.get_dummies(df.obId), columns=df.obId.unique()[:-1])\n",
    "    df = pd.concat([df, tmp_ob], axis=1)\n",
    "\n",
    "    # # smartly engineered features can be very useful to improve the classification resutls\n",
    "#     df[\"timeSinceLastTrade\"] = df[[\"timestamp\",\"endUserRef\"]].groupby(\"endUserRef\").diff()\n",
    "    df[\"averageTradeSize\"] = df[[\"volume\",\"endUserRef\"]].groupby(\"endUserRef\").mean()\n",
    "    \n",
    "    # cancel, volume>0, after successful trade\n",
    "    df['cancelAfterSuccessfulTrade'] = (df['operation'] == 'CANCEL') & (df['volume']>0) & (df['op_before'] == 'SUCCESS')*1.0\n",
    "    df['isVolumeTooBig'] = (df['volume'] > 3*df['vol_before'])*1.0\n",
    "    \n",
    "    df[\"numberEditsOnOrders\"] = df[[\"timestamp\", \"orderId\"]].groupby(\"orderId\").count()\n",
    "    df = df.fillna(-1)\n",
    "    df = df.drop(['operation', 'op_before', 'obId', 'member','user','endUserRef'], axis=1)\n",
    "\n",
    "    return(df)"
   ]
  },
  {
   "cell_type": "markdown",
   "metadata": {},
   "source": [
    "# MODEL"
   ]
  },
  {
   "cell_type": "code",
   "execution_count": 14,
   "metadata": {
    "collapsed": true
   },
   "outputs": [],
   "source": [
    "# import libraries\n",
    "from sklearn.linear_model import LogisticRegression\n",
    "from sklearn.preprocessing import scale\n",
    "from sklearn.model_selection import cross_validate\n",
    "from sklearn.naive_bayes import BernoulliNB\n",
    "from sklearn.ensemble import GradientBoostingClassifier\n",
    "from sklearn.ensemble import RandomForestClassifier"
   ]
  },
  {
   "cell_type": "code",
   "execution_count": 36,
   "metadata": {
    "collapsed": true
   },
   "outputs": [],
   "source": [
    "def detect_spoofying_log_reg(X_train, X_test, y_train):\n",
    "    \n",
    "    # clean up the data\n",
    "#     X_train, y_train = preprocess_label(X_train, y_train)\n",
    "    X_clean = format_data(pd.concat([X_train, X_test]))\n",
    "    X_train_clean = X_clean.iloc[:X_train.shape[0],:]\n",
    "    X_test_clean = X_clean.iloc[X_train.shape[0]:,:]\n",
    "    X_train_clean_scaled = scale(X_train_clean)\n",
    "    X_test_clean_scaled = scale(X_test_clean)\n",
    "\n",
    "    # fit classifier\n",
    "    clf = LogisticRegression(random_state=0, class_weight='balanced').fit(X_train_clean_scaled, y_train)\n",
    "    \n",
    "    dump(clf, 'logreg_model.joblib') \n",
    "    \n",
    "    y_train_prob_pred = clf.predict_proba(X_train_clean_scaled)\n",
    "    y_test_prob_pred = clf.predict_proba(X_test_clean_scaled)\n",
    "    \n",
    "    return y_train_prob_pred, y_test_prob_pred\n",
    "\n",
    "def detect_spoofying_Bernoulli_NB(X_train, X_test, y_train):\n",
    "    \n",
    "    # clean up the data\n",
    "#     X_train, y_train = preprocess_label(X_train, y_train)\n",
    "    X_clean = format_data(pd.concat([X_train, X_test]))\n",
    "    X_train_clean = X_clean.iloc[:X_train.shape[0],:]\n",
    "    X_test_clean = X_clean.iloc[X_train.shape[0]:,:]\n",
    "    X_train_clean_scaled = scale(X_train_clean)\n",
    "    X_test_clean_scaled = scale(X_test_clean)\n",
    "\n",
    "    # fit classifier\n",
    "    clf = BernoulliNB(alpha=1.0, binarize=0.0, fit_prior=True, class_prior=None).fit(X_train_clean_scaled, y_train)\n",
    "    y_train_prob_pred = clf.predict_proba(X_train_clean_scaled)\n",
    "    y_test_prob_pred = clf.predict_proba(X_test_clean_scaled)\n",
    "    \n",
    "    dump(clf, 'bernoulli_nb_model.joblib')\n",
    "    \n",
    "    return y_train_prob_pred, y_test_prob_pred\n",
    "\n",
    "def detect_spoofying_GBC(X_train, X_test, y_train):\n",
    "    \n",
    "    # clean up the data\n",
    "#     X_train, y_train = preprocess_label(X_train, y_train)\n",
    "    X_clean = format_data(pd.concat([X_train, X_test]))\n",
    "    X_train_clean = X_clean.iloc[:X_train.shape[0],:]\n",
    "    X_test_clean = X_clean.iloc[X_train.shape[0]:,:]\n",
    "    X_train_clean_scaled = scale(X_train_clean)\n",
    "    X_test_clean_scaled = scale(X_test_clean)\n",
    "\n",
    "    # fit classifier\n",
    "    clf = GradientBoostingClassifier(n_estimators=10, learning_rate=0.5,\n",
    "        max_depth=2, random_state=3).fit(X_train_clean_scaled, y_train)\n",
    "    y_train_prob_pred = clf.predict_proba(X_train_clean_scaled)\n",
    "    y_test_prob_pred = clf.predict_proba(X_test_clean_scaled)\n",
    "\n",
    "    dump(clf, 'gbc.joblib')\n",
    "\n",
    "    return y_train_prob_pred, y_test_prob_pred\n",
    "\n",
    "def detect_spoofying_random_forest(X_train, X_test, y_train):\n",
    "    \n",
    "    # clean up the data\n",
    "#     X_train, y_train = preprocess_label(X_train, y_train)\n",
    "    X_clean = format_data(pd.concat([X_train, X_test]))\n",
    "    X_train_clean = X_clean.iloc[:X_train.shape[0],:]\n",
    "    X_test_clean = X_clean.iloc[X_train.shape[0]:,:]\n",
    "    X_train_clean_scaled = scale(X_train_clean)\n",
    "    X_test_clean_scaled = scale(X_test_clean)\n",
    "    \n",
    "    # fit classifier\n",
    "    clf = RandomForestClassifier(n_estimators=50, max_depth=10,\n",
    "        min_samples_split=2, random_state=0).fit(X_train_clean_scaled, y_train)\n",
    "    \n",
    "    dump(clf, 'rf_model.joblib')\n",
    "    \n",
    "    y_train_prob_pred = clf.predict_proba(X_train_clean_scaled)\n",
    "    y_test_prob_pred = clf.predict_proba(X_test_clean_scaled)\n",
    "    \n",
    "    return y_train_prob_pred, y_test_prob_pred"
   ]
  },
  {
   "cell_type": "markdown",
   "metadata": {},
   "source": [
    "# SCORING"
   ]
  },
  {
   "cell_type": "code",
   "execution_count": 24,
   "metadata": {
    "collapsed": true
   },
   "outputs": [],
   "source": [
    "from sklearn.metrics import cohen_kappa_score\n",
    "\n",
    "def score(y_pred, y_true):\n",
    "    \"\"\"\n",
    "    y_pred: a numpy 4d array of probabilities of point assigned to each label\n",
    "    y_true: a numpy array of true labels\n",
    "    \"\"\"\n",
    "    y_pred_label = np.argmax(y_pred, axis=1)\n",
    "    return cohen_kappa_score(y_pred_label, y_true)\n",
    "\n",
    "def wrapper(detect_spoofying):\n",
    "    # read in data\n",
    "    # or if you have the computational power to work with the big data set, \n",
    "    # you can comment out the read_data_samll line and uncomment the following read_data_big\n",
    "    X_train, X_test, y_train = read_data_small()\n",
    "    X_train, X_test, y_train = balance_data(X_train, X_test, y_train)\n",
    " \n",
    "    # process the data, train classifier and output probability matrix\n",
    "    y_train_prob_pred, y_test_prob_pred = detect_spoofying(X_train, X_test, y_train)\n",
    "    \n",
    "    # score the predictions\n",
    "    score_train = score(y_train_prob_pred, y_train)\n",
    "    # score_test = score(y_test_prob_pred, y_test)\n",
    "    \n",
    "    # return the scores\n",
    "    return score_train, y_train_prob_pred, y_test_prob_pred"
   ]
  },
  {
   "cell_type": "markdown",
   "metadata": {},
   "source": [
    "# k-fold cross validation"
   ]
  },
  {
   "cell_type": "code",
   "execution_count": 20,
   "metadata": {
    "collapsed": true
   },
   "outputs": [
    {
     "name": "stdout",
     "output_type": "stream",
     "text": [
      "KFold(n_splits=5, random_state=None, shuffle=False)\n",
      "TRAIN: [ 80000  80001  80002 ..., 399997 399998 399999] TEST: [    0     1     2 ..., 79997 79998 79999]\n",
      "RangeIndex(start=0, stop=400000, step=1)\n",
      "0         0\n",
      "1         3\n",
      "2         3\n",
      "3         1\n",
      "4         0\n",
      "5         0\n",
      "6         1\n",
      "7         2\n",
      "8         0\n",
      "9         3\n",
      "10        0\n",
      "11        2\n",
      "12        1\n",
      "13        1\n",
      "14        1\n",
      "15        0\n",
      "16        3\n",
      "17        1\n",
      "18        1\n",
      "19        2\n",
      "20        1\n",
      "21        3\n",
      "22        1\n",
      "23        0\n",
      "24        2\n",
      "25        3\n",
      "26        3\n",
      "27        0\n",
      "28        1\n",
      "29        0\n",
      "         ..\n",
      "399970    3\n",
      "399971    0\n",
      "399972    1\n",
      "399973    0\n",
      "399974    3\n",
      "399975    3\n",
      "399976    0\n",
      "399977    2\n",
      "399978    3\n",
      "399979    3\n",
      "399980    0\n",
      "399981    0\n",
      "399982    0\n",
      "399983    2\n",
      "399984    2\n",
      "399985    2\n",
      "399986    3\n",
      "399987    3\n",
      "399988    3\n",
      "399989    2\n",
      "399990    1\n",
      "399991    3\n",
      "399992    3\n",
      "399993    2\n",
      "399994    1\n",
      "399995    2\n",
      "399996    2\n",
      "399997    1\n",
      "399998    0\n",
      "399999    3\n",
      "Name: y_label, Length: 400000, dtype: int64\n"
     ]
    },
    {
     "name": "stderr",
     "output_type": "stream",
     "text": [
      "/Users/fransiscasusan/anaconda3/lib/python3.6/site-packages/ipykernel/__main__.py:67: DataConversionWarning: Data with input dtype bool, uint8, int64, float64, object were all converted to float64 by the scale function.\n",
      "/Users/fransiscasusan/anaconda3/lib/python3.6/site-packages/sklearn/preprocessing/data.py:180: UserWarning: Numerical issues were encountered when centering the data and might not be solved. Dataset may contain too large values. You may need to prescale your features.\n",
      "  warnings.warn(\"Numerical issues were encountered \"\n",
      "/Users/fransiscasusan/anaconda3/lib/python3.6/site-packages/ipykernel/__main__.py:68: DataConversionWarning: Data with input dtype bool, uint8, int64, float64, object were all converted to float64 by the scale function.\n",
      "/Users/fransiscasusan/anaconda3/lib/python3.6/site-packages/sklearn/preprocessing/data.py:180: UserWarning: Numerical issues were encountered when centering the data and might not be solved. Dataset may contain too large values. You may need to prescale your features.\n",
      "  warnings.warn(\"Numerical issues were encountered \"\n"
     ]
    },
    {
     "name": "stdout",
     "output_type": "stream",
     "text": [
      "0.970395951945 0.637812655885\n",
      "TRAIN: [     0      1      2 ..., 399997 399998 399999] TEST: [ 80000  80001  80002 ..., 159997 159998 159999]\n",
      "RangeIndex(start=0, stop=400000, step=1)\n",
      "0         0\n",
      "1         3\n",
      "2         3\n",
      "3         1\n",
      "4         0\n",
      "5         0\n",
      "6         1\n",
      "7         2\n",
      "8         0\n",
      "9         3\n",
      "10        0\n",
      "11        2\n",
      "12        1\n",
      "13        1\n",
      "14        1\n",
      "15        0\n",
      "16        3\n",
      "17        1\n",
      "18        1\n",
      "19        2\n",
      "20        1\n",
      "21        3\n",
      "22        1\n",
      "23        0\n",
      "24        2\n",
      "25        3\n",
      "26        3\n",
      "27        0\n",
      "28        1\n",
      "29        0\n",
      "         ..\n",
      "399970    3\n",
      "399971    0\n",
      "399972    1\n",
      "399973    0\n",
      "399974    3\n",
      "399975    3\n",
      "399976    0\n",
      "399977    2\n",
      "399978    3\n",
      "399979    3\n",
      "399980    0\n",
      "399981    0\n",
      "399982    0\n",
      "399983    2\n",
      "399984    2\n",
      "399985    2\n",
      "399986    3\n",
      "399987    3\n",
      "399988    3\n",
      "399989    2\n",
      "399990    1\n",
      "399991    3\n",
      "399992    3\n",
      "399993    2\n",
      "399994    1\n",
      "399995    2\n",
      "399996    2\n",
      "399997    1\n",
      "399998    0\n",
      "399999    3\n",
      "Name: y_label, Length: 400000, dtype: int64\n"
     ]
    },
    {
     "name": "stderr",
     "output_type": "stream",
     "text": [
      "/Users/fransiscasusan/anaconda3/lib/python3.6/site-packages/ipykernel/__main__.py:67: DataConversionWarning: Data with input dtype bool, uint8, int64, float64, object were all converted to float64 by the scale function.\n",
      "/Users/fransiscasusan/anaconda3/lib/python3.6/site-packages/sklearn/preprocessing/data.py:180: UserWarning: Numerical issues were encountered when centering the data and might not be solved. Dataset may contain too large values. You may need to prescale your features.\n",
      "  warnings.warn(\"Numerical issues were encountered \"\n",
      "/Users/fransiscasusan/anaconda3/lib/python3.6/site-packages/ipykernel/__main__.py:68: DataConversionWarning: Data with input dtype bool, uint8, int64, float64, object were all converted to float64 by the scale function.\n",
      "/Users/fransiscasusan/anaconda3/lib/python3.6/site-packages/sklearn/preprocessing/data.py:180: UserWarning: Numerical issues were encountered when centering the data and might not be solved. Dataset may contain too large values. You may need to prescale your features.\n",
      "  warnings.warn(\"Numerical issues were encountered \"\n"
     ]
    },
    {
     "name": "stdout",
     "output_type": "stream",
     "text": [
      "0.975154308802 0.796025418715\n",
      "TRAIN: [     0      1      2 ..., 399997 399998 399999] TEST: [160000 160001 160002 ..., 239997 239998 239999]\n",
      "RangeIndex(start=0, stop=400000, step=1)\n",
      "0         0\n",
      "1         3\n",
      "2         3\n",
      "3         1\n",
      "4         0\n",
      "5         0\n",
      "6         1\n",
      "7         2\n",
      "8         0\n",
      "9         3\n",
      "10        0\n",
      "11        2\n",
      "12        1\n",
      "13        1\n",
      "14        1\n",
      "15        0\n",
      "16        3\n",
      "17        1\n",
      "18        1\n",
      "19        2\n",
      "20        1\n",
      "21        3\n",
      "22        1\n",
      "23        0\n",
      "24        2\n",
      "25        3\n",
      "26        3\n",
      "27        0\n",
      "28        1\n",
      "29        0\n",
      "         ..\n",
      "399970    3\n",
      "399971    0\n",
      "399972    1\n",
      "399973    0\n",
      "399974    3\n",
      "399975    3\n",
      "399976    0\n",
      "399977    2\n",
      "399978    3\n",
      "399979    3\n",
      "399980    0\n",
      "399981    0\n",
      "399982    0\n",
      "399983    2\n",
      "399984    2\n",
      "399985    2\n",
      "399986    3\n",
      "399987    3\n",
      "399988    3\n",
      "399989    2\n",
      "399990    1\n",
      "399991    3\n",
      "399992    3\n",
      "399993    2\n",
      "399994    1\n",
      "399995    2\n",
      "399996    2\n",
      "399997    1\n",
      "399998    0\n",
      "399999    3\n",
      "Name: y_label, Length: 400000, dtype: int64\n"
     ]
    },
    {
     "name": "stderr",
     "output_type": "stream",
     "text": [
      "/Users/fransiscasusan/anaconda3/lib/python3.6/site-packages/ipykernel/__main__.py:67: DataConversionWarning: Data with input dtype bool, uint8, int64, float64, object were all converted to float64 by the scale function.\n",
      "/Users/fransiscasusan/anaconda3/lib/python3.6/site-packages/sklearn/preprocessing/data.py:180: UserWarning: Numerical issues were encountered when centering the data and might not be solved. Dataset may contain too large values. You may need to prescale your features.\n",
      "  warnings.warn(\"Numerical issues were encountered \"\n",
      "/Users/fransiscasusan/anaconda3/lib/python3.6/site-packages/ipykernel/__main__.py:68: DataConversionWarning: Data with input dtype bool, uint8, int64, float64, object were all converted to float64 by the scale function.\n",
      "/Users/fransiscasusan/anaconda3/lib/python3.6/site-packages/sklearn/preprocessing/data.py:180: UserWarning: Numerical issues were encountered when centering the data and might not be solved. Dataset may contain too large values. You may need to prescale your features.\n",
      "  warnings.warn(\"Numerical issues were encountered \"\n"
     ]
    },
    {
     "name": "stdout",
     "output_type": "stream",
     "text": [
      "0.97073727451 0.834156260247\n",
      "TRAIN: [     0      1      2 ..., 399997 399998 399999] TEST: [240000 240001 240002 ..., 319997 319998 319999]\n",
      "RangeIndex(start=0, stop=400000, step=1)\n",
      "0         0\n",
      "1         3\n",
      "2         3\n",
      "3         1\n",
      "4         0\n",
      "5         0\n",
      "6         1\n",
      "7         2\n",
      "8         0\n",
      "9         3\n",
      "10        0\n",
      "11        2\n",
      "12        1\n",
      "13        1\n",
      "14        1\n",
      "15        0\n",
      "16        3\n",
      "17        1\n",
      "18        1\n",
      "19        2\n",
      "20        1\n",
      "21        3\n",
      "22        1\n",
      "23        0\n",
      "24        2\n",
      "25        3\n",
      "26        3\n",
      "27        0\n",
      "28        1\n",
      "29        0\n",
      "         ..\n",
      "399970    3\n",
      "399971    0\n",
      "399972    1\n",
      "399973    0\n",
      "399974    3\n",
      "399975    3\n",
      "399976    0\n",
      "399977    2\n",
      "399978    3\n",
      "399979    3\n",
      "399980    0\n",
      "399981    0\n",
      "399982    0\n",
      "399983    2\n",
      "399984    2\n",
      "399985    2\n",
      "399986    3\n",
      "399987    3\n",
      "399988    3\n",
      "399989    2\n",
      "399990    1\n",
      "399991    3\n",
      "399992    3\n",
      "399993    2\n",
      "399994    1\n",
      "399995    2\n",
      "399996    2\n",
      "399997    1\n",
      "399998    0\n",
      "399999    3\n",
      "Name: y_label, Length: 400000, dtype: int64\n"
     ]
    },
    {
     "name": "stderr",
     "output_type": "stream",
     "text": [
      "/Users/fransiscasusan/anaconda3/lib/python3.6/site-packages/ipykernel/__main__.py:67: DataConversionWarning: Data with input dtype bool, uint8, int64, float64, object were all converted to float64 by the scale function.\n",
      "/Users/fransiscasusan/anaconda3/lib/python3.6/site-packages/sklearn/preprocessing/data.py:180: UserWarning: Numerical issues were encountered when centering the data and might not be solved. Dataset may contain too large values. You may need to prescale your features.\n",
      "  warnings.warn(\"Numerical issues were encountered \"\n",
      "/Users/fransiscasusan/anaconda3/lib/python3.6/site-packages/ipykernel/__main__.py:68: DataConversionWarning: Data with input dtype bool, uint8, int64, float64, object were all converted to float64 by the scale function.\n",
      "/Users/fransiscasusan/anaconda3/lib/python3.6/site-packages/sklearn/preprocessing/data.py:180: UserWarning: Numerical issues were encountered when centering the data and might not be solved. Dataset may contain too large values. You may need to prescale your features.\n",
      "  warnings.warn(\"Numerical issues were encountered \"\n"
     ]
    },
    {
     "name": "stdout",
     "output_type": "stream",
     "text": [
      "0.970087468705 0.959833328246\n",
      "TRAIN: [     0      1      2 ..., 319997 319998 319999] TEST: [320000 320001 320002 ..., 399997 399998 399999]\n",
      "RangeIndex(start=0, stop=400000, step=1)\n",
      "0         0\n",
      "1         3\n",
      "2         3\n",
      "3         1\n",
      "4         0\n",
      "5         0\n",
      "6         1\n",
      "7         2\n",
      "8         0\n",
      "9         3\n",
      "10        0\n",
      "11        2\n",
      "12        1\n",
      "13        1\n",
      "14        1\n",
      "15        0\n",
      "16        3\n",
      "17        1\n",
      "18        1\n",
      "19        2\n",
      "20        1\n",
      "21        3\n",
      "22        1\n",
      "23        0\n",
      "24        2\n",
      "25        3\n",
      "26        3\n",
      "27        0\n",
      "28        1\n",
      "29        0\n",
      "         ..\n",
      "399970    3\n",
      "399971    0\n",
      "399972    1\n",
      "399973    0\n",
      "399974    3\n",
      "399975    3\n",
      "399976    0\n",
      "399977    2\n",
      "399978    3\n",
      "399979    3\n",
      "399980    0\n",
      "399981    0\n",
      "399982    0\n",
      "399983    2\n",
      "399984    2\n",
      "399985    2\n",
      "399986    3\n",
      "399987    3\n",
      "399988    3\n",
      "399989    2\n",
      "399990    1\n",
      "399991    3\n",
      "399992    3\n",
      "399993    2\n",
      "399994    1\n",
      "399995    2\n",
      "399996    2\n",
      "399997    1\n",
      "399998    0\n",
      "399999    3\n",
      "Name: y_label, Length: 400000, dtype: int64\n"
     ]
    },
    {
     "name": "stderr",
     "output_type": "stream",
     "text": [
      "/Users/fransiscasusan/anaconda3/lib/python3.6/site-packages/ipykernel/__main__.py:67: DataConversionWarning: Data with input dtype bool, uint8, int64, float64, object were all converted to float64 by the scale function.\n",
      "/Users/fransiscasusan/anaconda3/lib/python3.6/site-packages/sklearn/preprocessing/data.py:180: UserWarning: Numerical issues were encountered when centering the data and might not be solved. Dataset may contain too large values. You may need to prescale your features.\n",
      "  warnings.warn(\"Numerical issues were encountered \"\n",
      "/Users/fransiscasusan/anaconda3/lib/python3.6/site-packages/ipykernel/__main__.py:68: DataConversionWarning: Data with input dtype bool, uint8, int64, float64, object were all converted to float64 by the scale function.\n",
      "/Users/fransiscasusan/anaconda3/lib/python3.6/site-packages/sklearn/preprocessing/data.py:180: UserWarning: Numerical issues were encountered when centering the data and might not be solved. Dataset may contain too large values. You may need to prescale your features.\n",
      "  warnings.warn(\"Numerical issues were encountered \"\n"
     ]
    },
    {
     "name": "stdout",
     "output_type": "stream",
     "text": [
      "0.965695622188 0.657507219489\n"
     ]
    }
   ],
   "source": [
    "### optional: examples of k-fold cross validation ###\n",
    "# k-fold cross validation can help you compare the classification models\n",
    "from sklearn.model_selection import KFold\n",
    "n = 5 # here we choose a 10 fold cross validation\n",
    "kf = KFold(n_splits = n)\n",
    "# X_train, X_test, y_train = read_data_small()\n",
    "kf.get_n_splits(X_train)\n",
    "print(kf)\n",
    "kf_scores = pd.DataFrame(np.zeros([n,2]), columns=[\"train score\", \"test score\"])\n",
    "rowindex = 0\n",
    "for train_index, test_index in kf.split(X_train):\n",
    "    print(\"TRAIN:\", train_index, \"TEST:\", test_index)\n",
    "    print(X_train.index)\n",
    "    print(y_train)\n",
    "    X_train_kf, X_test_kf = X_train.iloc[train_index], X_train.iloc[test_index]\n",
    "    y_train_kf, y_test_kf = y_train[train_index], y_train[test_index]\n",
    "    y_train_prob_pred_kf, y_test_prob_pred_kf = detect_spoofying_random_forest(X_train_kf, X_test_kf, y_train_kf)\n",
    "    score_train_kf = score(y_train_prob_pred_kf, y_train_kf)\n",
    "    score_test_kf = score(y_test_prob_pred_kf, y_test_kf)\n",
    "    kf_scores.iloc[rowindex, 0] = score_train_kf\n",
    "    kf_scores.iloc[rowindex, 1] = score_test_kf\n",
    "    print(score_train_kf, score_test_kf)\n",
    "    rowindex += 1"
   ]
  },
  {
   "cell_type": "code",
   "execution_count": 21,
   "metadata": {
    "collapsed": false
   },
   "outputs": [
    {
     "data": {
      "text/html": [
       "<div>\n",
       "<style>\n",
       "    .dataframe thead tr:only-child th {\n",
       "        text-align: right;\n",
       "    }\n",
       "\n",
       "    .dataframe thead th {\n",
       "        text-align: left;\n",
       "    }\n",
       "\n",
       "    .dataframe tbody tr th {\n",
       "        vertical-align: top;\n",
       "    }\n",
       "</style>\n",
       "<table border=\"1\" class=\"dataframe\">\n",
       "  <thead>\n",
       "    <tr style=\"text-align: right;\">\n",
       "      <th></th>\n",
       "      <th>train score</th>\n",
       "      <th>test score</th>\n",
       "    </tr>\n",
       "  </thead>\n",
       "  <tbody>\n",
       "    <tr>\n",
       "      <th>0</th>\n",
       "      <td>0.970396</td>\n",
       "      <td>0.637813</td>\n",
       "    </tr>\n",
       "    <tr>\n",
       "      <th>1</th>\n",
       "      <td>0.975154</td>\n",
       "      <td>0.796025</td>\n",
       "    </tr>\n",
       "    <tr>\n",
       "      <th>2</th>\n",
       "      <td>0.970737</td>\n",
       "      <td>0.834156</td>\n",
       "    </tr>\n",
       "    <tr>\n",
       "      <th>3</th>\n",
       "      <td>0.970087</td>\n",
       "      <td>0.959833</td>\n",
       "    </tr>\n",
       "    <tr>\n",
       "      <th>4</th>\n",
       "      <td>0.965696</td>\n",
       "      <td>0.657507</td>\n",
       "    </tr>\n",
       "  </tbody>\n",
       "</table>\n",
       "</div>"
      ],
      "text/plain": [
       "   train score  test score\n",
       "0     0.970396    0.637813\n",
       "1     0.975154    0.796025\n",
       "2     0.970737    0.834156\n",
       "3     0.970087    0.959833\n",
       "4     0.965696    0.657507"
      ]
     },
     "execution_count": 21,
     "metadata": {},
     "output_type": "execute_result"
    }
   ],
   "source": [
    "kf_scores"
   ]
  },
  {
   "cell_type": "code",
   "execution_count": 25,
   "metadata": {
    "collapsed": false
   },
   "outputs": [
    {
     "name": "stderr",
     "output_type": "stream",
     "text": [
      "/Users/fransiscasusan/anaconda3/lib/python3.6/site-packages/ipykernel/__main__.py:67: DataConversionWarning: Data with input dtype bool, uint8, int64, float64, object were all converted to float64 by the scale function.\n",
      "/Users/fransiscasusan/anaconda3/lib/python3.6/site-packages/sklearn/preprocessing/data.py:180: UserWarning: Numerical issues were encountered when centering the data and might not be solved. Dataset may contain too large values. You may need to prescale your features.\n",
      "  warnings.warn(\"Numerical issues were encountered \"\n",
      "/Users/fransiscasusan/anaconda3/lib/python3.6/site-packages/ipykernel/__main__.py:68: DataConversionWarning: Data with input dtype bool, uint8, int64, float64, object were all converted to float64 by the scale function.\n",
      "/Users/fransiscasusan/anaconda3/lib/python3.6/site-packages/sklearn/preprocessing/data.py:180: UserWarning: Numerical issues were encountered when centering the data and might not be solved. Dataset may contain too large values. You may need to prescale your features.\n",
      "  warnings.warn(\"Numerical issues were encountered \"\n"
     ]
    }
   ],
   "source": [
    "score_train, y_train_prob_pred, y_test_prob_pred = wrapper(detect_spoofying_random_forest)"
   ]
  },
  {
   "cell_type": "code",
   "execution_count": 26,
   "metadata": {
    "collapsed": false
   },
   "outputs": [
    {
     "data": {
      "text/plain": [
       "0.96758666666666671"
      ]
     },
     "execution_count": 26,
     "metadata": {},
     "output_type": "execute_result"
    }
   ],
   "source": [
    "score_train"
   ]
  },
  {
   "cell_type": "code",
   "execution_count": 37,
   "metadata": {
    "collapsed": true
   },
   "outputs": [
    {
     "name": "stdout",
     "output_type": "stream",
     "text": [
      "TRAIN: [ 80000  80001  80002 ..., 399997 399998 399999] TEST: [    0     1     2 ..., 79997 79998 79999]\n"
     ]
    },
    {
     "name": "stderr",
     "output_type": "stream",
     "text": [
      "/Users/fransiscasusan/anaconda3/lib/python3.6/site-packages/ipykernel/__main__.py:47: DataConversionWarning: Data with input dtype bool, uint8, int64, float64, object were all converted to float64 by the scale function.\n",
      "/Users/fransiscasusan/anaconda3/lib/python3.6/site-packages/sklearn/preprocessing/data.py:180: UserWarning: Numerical issues were encountered when centering the data and might not be solved. Dataset may contain too large values. You may need to prescale your features.\n",
      "  warnings.warn(\"Numerical issues were encountered \"\n",
      "/Users/fransiscasusan/anaconda3/lib/python3.6/site-packages/ipykernel/__main__.py:48: DataConversionWarning: Data with input dtype bool, uint8, int64, float64, object were all converted to float64 by the scale function.\n",
      "/Users/fransiscasusan/anaconda3/lib/python3.6/site-packages/sklearn/preprocessing/data.py:180: UserWarning: Numerical issues were encountered when centering the data and might not be solved. Dataset may contain too large values. You may need to prescale your features.\n",
      "  warnings.warn(\"Numerical issues were encountered \"\n"
     ]
    },
    {
     "name": "stdout",
     "output_type": "stream",
     "text": [
      "0.936887321205 0.50604745201\n",
      "TRAIN: [     0      1      2 ..., 399997 399998 399999] TEST: [ 80000  80001  80002 ..., 159997 159998 159999]\n"
     ]
    },
    {
     "name": "stderr",
     "output_type": "stream",
     "text": [
      "/Users/fransiscasusan/anaconda3/lib/python3.6/site-packages/ipykernel/__main__.py:47: DataConversionWarning: Data with input dtype bool, uint8, int64, float64, object were all converted to float64 by the scale function.\n",
      "/Users/fransiscasusan/anaconda3/lib/python3.6/site-packages/sklearn/preprocessing/data.py:180: UserWarning: Numerical issues were encountered when centering the data and might not be solved. Dataset may contain too large values. You may need to prescale your features.\n",
      "  warnings.warn(\"Numerical issues were encountered \"\n",
      "/Users/fransiscasusan/anaconda3/lib/python3.6/site-packages/ipykernel/__main__.py:48: DataConversionWarning: Data with input dtype bool, uint8, int64, float64, object were all converted to float64 by the scale function.\n",
      "/Users/fransiscasusan/anaconda3/lib/python3.6/site-packages/sklearn/preprocessing/data.py:180: UserWarning: Numerical issues were encountered when centering the data and might not be solved. Dataset may contain too large values. You may need to prescale your features.\n",
      "  warnings.warn(\"Numerical issues were encountered \"\n"
     ]
    },
    {
     "name": "stdout",
     "output_type": "stream",
     "text": [
      "0.942041327439 0.602824112853\n",
      "TRAIN: [     0      1      2 ..., 399997 399998 399999] TEST: [160000 160001 160002 ..., 239997 239998 239999]\n"
     ]
    },
    {
     "name": "stderr",
     "output_type": "stream",
     "text": [
      "/Users/fransiscasusan/anaconda3/lib/python3.6/site-packages/ipykernel/__main__.py:47: DataConversionWarning: Data with input dtype bool, uint8, int64, float64, object were all converted to float64 by the scale function.\n",
      "/Users/fransiscasusan/anaconda3/lib/python3.6/site-packages/sklearn/preprocessing/data.py:180: UserWarning: Numerical issues were encountered when centering the data and might not be solved. Dataset may contain too large values. You may need to prescale your features.\n",
      "  warnings.warn(\"Numerical issues were encountered \"\n",
      "/Users/fransiscasusan/anaconda3/lib/python3.6/site-packages/ipykernel/__main__.py:48: DataConversionWarning: Data with input dtype bool, uint8, int64, float64, object were all converted to float64 by the scale function.\n",
      "/Users/fransiscasusan/anaconda3/lib/python3.6/site-packages/sklearn/preprocessing/data.py:180: UserWarning: Numerical issues were encountered when centering the data and might not be solved. Dataset may contain too large values. You may need to prescale your features.\n",
      "  warnings.warn(\"Numerical issues were encountered \"\n"
     ]
    },
    {
     "name": "stdout",
     "output_type": "stream",
     "text": [
      "0.945291974188 0.599822085216\n",
      "TRAIN: [     0      1      2 ..., 399997 399998 399999] TEST: [240000 240001 240002 ..., 319997 319998 319999]\n"
     ]
    },
    {
     "ename": "KeyboardInterrupt",
     "evalue": "",
     "output_type": "error",
     "traceback": [
      "\u001b[0;31m---------------------------------------------------------------------------\u001b[0m",
      "\u001b[0;31mKeyboardInterrupt\u001b[0m                         Traceback (most recent call last)",
      "\u001b[0;32m<ipython-input-37-acfe95f7a27f>\u001b[0m in \u001b[0;36m<module>\u001b[0;34m()\u001b[0m\n\u001b[1;32m     16\u001b[0m     \u001b[0mX_train_kf\u001b[0m\u001b[0;34m,\u001b[0m \u001b[0mX_test_kf\u001b[0m \u001b[0;34m=\u001b[0m \u001b[0mX_train\u001b[0m\u001b[0;34m.\u001b[0m\u001b[0miloc\u001b[0m\u001b[0;34m[\u001b[0m\u001b[0mtrain_index\u001b[0m\u001b[0;34m]\u001b[0m\u001b[0;34m,\u001b[0m \u001b[0mX_train\u001b[0m\u001b[0;34m.\u001b[0m\u001b[0miloc\u001b[0m\u001b[0;34m[\u001b[0m\u001b[0mtest_index\u001b[0m\u001b[0;34m]\u001b[0m\u001b[0;34m\u001b[0m\u001b[0;34m\u001b[0m\u001b[0m\n\u001b[1;32m     17\u001b[0m     \u001b[0my_train_kf\u001b[0m\u001b[0;34m,\u001b[0m \u001b[0my_test_kf\u001b[0m \u001b[0;34m=\u001b[0m \u001b[0my_train\u001b[0m\u001b[0;34m[\u001b[0m\u001b[0mtrain_index\u001b[0m\u001b[0;34m]\u001b[0m\u001b[0;34m,\u001b[0m \u001b[0my_train\u001b[0m\u001b[0;34m[\u001b[0m\u001b[0mtest_index\u001b[0m\u001b[0;34m]\u001b[0m\u001b[0;34m\u001b[0m\u001b[0;34m\u001b[0m\u001b[0m\n\u001b[0;32m---> 18\u001b[0;31m     \u001b[0my_train_prob_pred_kf\u001b[0m\u001b[0;34m,\u001b[0m \u001b[0my_test_prob_pred_kf\u001b[0m \u001b[0;34m=\u001b[0m \u001b[0mdetect_spoofying_GBC\u001b[0m\u001b[0;34m(\u001b[0m\u001b[0mX_train_kf\u001b[0m\u001b[0;34m,\u001b[0m \u001b[0mX_test_kf\u001b[0m\u001b[0;34m,\u001b[0m \u001b[0my_train_kf\u001b[0m\u001b[0;34m)\u001b[0m\u001b[0;34m\u001b[0m\u001b[0;34m\u001b[0m\u001b[0m\n\u001b[0m\u001b[1;32m     19\u001b[0m     \u001b[0mscore_train_kf\u001b[0m \u001b[0;34m=\u001b[0m \u001b[0mscore\u001b[0m\u001b[0;34m(\u001b[0m\u001b[0my_train_prob_pred_kf\u001b[0m\u001b[0;34m,\u001b[0m \u001b[0my_train_kf\u001b[0m\u001b[0;34m)\u001b[0m\u001b[0;34m\u001b[0m\u001b[0;34m\u001b[0m\u001b[0m\n\u001b[1;32m     20\u001b[0m     \u001b[0mscore_test_kf\u001b[0m \u001b[0;34m=\u001b[0m \u001b[0mscore\u001b[0m\u001b[0;34m(\u001b[0m\u001b[0my_test_prob_pred_kf\u001b[0m\u001b[0;34m,\u001b[0m \u001b[0my_test_kf\u001b[0m\u001b[0;34m)\u001b[0m\u001b[0;34m\u001b[0m\u001b[0;34m\u001b[0m\u001b[0m\n",
      "\u001b[0;32m<ipython-input-36-355314f81723>\u001b[0m in \u001b[0;36mdetect_spoofying_GBC\u001b[0;34m(X_train, X_test, y_train)\u001b[0m\n\u001b[1;32m     45\u001b[0m     \u001b[0mX_train_clean\u001b[0m \u001b[0;34m=\u001b[0m \u001b[0mX_clean\u001b[0m\u001b[0;34m.\u001b[0m\u001b[0miloc\u001b[0m\u001b[0;34m[\u001b[0m\u001b[0;34m:\u001b[0m\u001b[0mX_train\u001b[0m\u001b[0;34m.\u001b[0m\u001b[0mshape\u001b[0m\u001b[0;34m[\u001b[0m\u001b[0;36m0\u001b[0m\u001b[0;34m]\u001b[0m\u001b[0;34m,\u001b[0m\u001b[0;34m:\u001b[0m\u001b[0;34m]\u001b[0m\u001b[0;34m\u001b[0m\u001b[0;34m\u001b[0m\u001b[0m\n\u001b[1;32m     46\u001b[0m     \u001b[0mX_test_clean\u001b[0m \u001b[0;34m=\u001b[0m \u001b[0mX_clean\u001b[0m\u001b[0;34m.\u001b[0m\u001b[0miloc\u001b[0m\u001b[0;34m[\u001b[0m\u001b[0mX_train\u001b[0m\u001b[0;34m.\u001b[0m\u001b[0mshape\u001b[0m\u001b[0;34m[\u001b[0m\u001b[0;36m0\u001b[0m\u001b[0;34m]\u001b[0m\u001b[0;34m:\u001b[0m\u001b[0;34m,\u001b[0m\u001b[0;34m:\u001b[0m\u001b[0;34m]\u001b[0m\u001b[0;34m\u001b[0m\u001b[0;34m\u001b[0m\u001b[0m\n\u001b[0;32m---> 47\u001b[0;31m     \u001b[0mX_train_clean_scaled\u001b[0m \u001b[0;34m=\u001b[0m \u001b[0mscale\u001b[0m\u001b[0;34m(\u001b[0m\u001b[0mX_train_clean\u001b[0m\u001b[0;34m)\u001b[0m\u001b[0;34m\u001b[0m\u001b[0;34m\u001b[0m\u001b[0m\n\u001b[0m\u001b[1;32m     48\u001b[0m     \u001b[0mX_test_clean_scaled\u001b[0m \u001b[0;34m=\u001b[0m \u001b[0mscale\u001b[0m\u001b[0;34m(\u001b[0m\u001b[0mX_test_clean\u001b[0m\u001b[0;34m)\u001b[0m\u001b[0;34m\u001b[0m\u001b[0;34m\u001b[0m\u001b[0m\n\u001b[1;32m     49\u001b[0m \u001b[0;34m\u001b[0m\u001b[0m\n",
      "\u001b[0;32m/Users/fransiscasusan/anaconda3/lib/python3.6/site-packages/sklearn/preprocessing/data.py\u001b[0m in \u001b[0;36mscale\u001b[0;34m(X, axis, with_mean, with_std, copy)\u001b[0m\n\u001b[1;32m    147\u001b[0m     X = check_array(X, accept_sparse='csc', copy=copy, ensure_2d=False,\n\u001b[1;32m    148\u001b[0m                     \u001b[0mwarn_on_dtype\u001b[0m\u001b[0;34m=\u001b[0m\u001b[0;32mTrue\u001b[0m\u001b[0;34m,\u001b[0m \u001b[0mestimator\u001b[0m\u001b[0;34m=\u001b[0m\u001b[0;34m'the scale function'\u001b[0m\u001b[0;34m,\u001b[0m\u001b[0;34m\u001b[0m\u001b[0;34m\u001b[0m\u001b[0m\n\u001b[0;32m--> 149\u001b[0;31m                     dtype=FLOAT_DTYPES, force_all_finite='allow-nan')\n\u001b[0m\u001b[1;32m    150\u001b[0m     \u001b[0;32mif\u001b[0m \u001b[0msparse\u001b[0m\u001b[0;34m.\u001b[0m\u001b[0missparse\u001b[0m\u001b[0;34m(\u001b[0m\u001b[0mX\u001b[0m\u001b[0;34m)\u001b[0m\u001b[0;34m:\u001b[0m\u001b[0;34m\u001b[0m\u001b[0;34m\u001b[0m\u001b[0m\n\u001b[1;32m    151\u001b[0m         \u001b[0;32mif\u001b[0m \u001b[0mwith_mean\u001b[0m\u001b[0;34m:\u001b[0m\u001b[0;34m\u001b[0m\u001b[0;34m\u001b[0m\u001b[0m\n",
      "\u001b[0;32m/Users/fransiscasusan/anaconda3/lib/python3.6/site-packages/sklearn/utils/validation.py\u001b[0m in \u001b[0;36mcheck_array\u001b[0;34m(array, accept_sparse, accept_large_sparse, dtype, order, copy, force_all_finite, ensure_2d, allow_nd, ensure_min_samples, ensure_min_features, warn_on_dtype, estimator)\u001b[0m\n\u001b[1;32m    525\u001b[0m             \u001b[0;32mtry\u001b[0m\u001b[0;34m:\u001b[0m\u001b[0;34m\u001b[0m\u001b[0;34m\u001b[0m\u001b[0m\n\u001b[1;32m    526\u001b[0m                 \u001b[0mwarnings\u001b[0m\u001b[0;34m.\u001b[0m\u001b[0msimplefilter\u001b[0m\u001b[0;34m(\u001b[0m\u001b[0;34m'error'\u001b[0m\u001b[0;34m,\u001b[0m \u001b[0mComplexWarning\u001b[0m\u001b[0;34m)\u001b[0m\u001b[0;34m\u001b[0m\u001b[0;34m\u001b[0m\u001b[0m\n\u001b[0;32m--> 527\u001b[0;31m                 \u001b[0marray\u001b[0m \u001b[0;34m=\u001b[0m \u001b[0mnp\u001b[0m\u001b[0;34m.\u001b[0m\u001b[0masarray\u001b[0m\u001b[0;34m(\u001b[0m\u001b[0marray\u001b[0m\u001b[0;34m,\u001b[0m \u001b[0mdtype\u001b[0m\u001b[0;34m=\u001b[0m\u001b[0mdtype\u001b[0m\u001b[0;34m,\u001b[0m \u001b[0morder\u001b[0m\u001b[0;34m=\u001b[0m\u001b[0morder\u001b[0m\u001b[0;34m)\u001b[0m\u001b[0;34m\u001b[0m\u001b[0;34m\u001b[0m\u001b[0m\n\u001b[0m\u001b[1;32m    528\u001b[0m             \u001b[0;32mexcept\u001b[0m \u001b[0mComplexWarning\u001b[0m\u001b[0;34m:\u001b[0m\u001b[0;34m\u001b[0m\u001b[0;34m\u001b[0m\u001b[0m\n\u001b[1;32m    529\u001b[0m                 raise ValueError(\"Complex data not supported\\n\"\n",
      "\u001b[0;32m/Users/fransiscasusan/anaconda3/lib/python3.6/site-packages/numpy/core/numeric.py\u001b[0m in \u001b[0;36masarray\u001b[0;34m(a, dtype, order)\u001b[0m\n\u001b[1;32m    529\u001b[0m \u001b[0;34m\u001b[0m\u001b[0m\n\u001b[1;32m    530\u001b[0m     \"\"\"\n\u001b[0;32m--> 531\u001b[0;31m     \u001b[0;32mreturn\u001b[0m \u001b[0marray\u001b[0m\u001b[0;34m(\u001b[0m\u001b[0ma\u001b[0m\u001b[0;34m,\u001b[0m \u001b[0mdtype\u001b[0m\u001b[0;34m,\u001b[0m \u001b[0mcopy\u001b[0m\u001b[0;34m=\u001b[0m\u001b[0;32mFalse\u001b[0m\u001b[0;34m,\u001b[0m \u001b[0morder\u001b[0m\u001b[0;34m=\u001b[0m\u001b[0morder\u001b[0m\u001b[0;34m)\u001b[0m\u001b[0;34m\u001b[0m\u001b[0;34m\u001b[0m\u001b[0m\n\u001b[0m\u001b[1;32m    532\u001b[0m \u001b[0;34m\u001b[0m\u001b[0m\n\u001b[1;32m    533\u001b[0m \u001b[0;34m\u001b[0m\u001b[0m\n",
      "\u001b[0;32m/Users/fransiscasusan/anaconda3/lib/python3.6/site-packages/pandas/core/generic.py\u001b[0m in \u001b[0;36m__array__\u001b[0;34m(self, dtype)\u001b[0m\n\u001b[1;32m    983\u001b[0m \u001b[0;34m\u001b[0m\u001b[0m\n\u001b[1;32m    984\u001b[0m     \u001b[0;32mdef\u001b[0m \u001b[0m__array__\u001b[0m\u001b[0;34m(\u001b[0m\u001b[0mself\u001b[0m\u001b[0;34m,\u001b[0m \u001b[0mdtype\u001b[0m\u001b[0;34m=\u001b[0m\u001b[0;32mNone\u001b[0m\u001b[0;34m)\u001b[0m\u001b[0;34m:\u001b[0m\u001b[0;34m\u001b[0m\u001b[0;34m\u001b[0m\u001b[0m\n\u001b[0;32m--> 985\u001b[0;31m         \u001b[0;32mreturn\u001b[0m \u001b[0m_values_from_object\u001b[0m\u001b[0;34m(\u001b[0m\u001b[0mself\u001b[0m\u001b[0;34m)\u001b[0m\u001b[0;34m\u001b[0m\u001b[0;34m\u001b[0m\u001b[0m\n\u001b[0m\u001b[1;32m    986\u001b[0m \u001b[0;34m\u001b[0m\u001b[0m\n\u001b[1;32m    987\u001b[0m     \u001b[0;32mdef\u001b[0m \u001b[0m__array_wrap__\u001b[0m\u001b[0;34m(\u001b[0m\u001b[0mself\u001b[0m\u001b[0;34m,\u001b[0m \u001b[0mresult\u001b[0m\u001b[0;34m,\u001b[0m \u001b[0mcontext\u001b[0m\u001b[0;34m=\u001b[0m\u001b[0;32mNone\u001b[0m\u001b[0;34m)\u001b[0m\u001b[0;34m:\u001b[0m\u001b[0;34m\u001b[0m\u001b[0;34m\u001b[0m\u001b[0m\n",
      "\u001b[0;32mpandas/_libs/lib.pyx\u001b[0m in \u001b[0;36mpandas._libs.lib.values_from_object\u001b[0;34m()\u001b[0m\n",
      "\u001b[0;32m/Users/fransiscasusan/anaconda3/lib/python3.6/site-packages/pandas/core/generic.py\u001b[0m in \u001b[0;36mget_values\u001b[0;34m(self)\u001b[0m\n\u001b[1;32m   3284\u001b[0m     \u001b[0;32mdef\u001b[0m \u001b[0mget_values\u001b[0m\u001b[0;34m(\u001b[0m\u001b[0mself\u001b[0m\u001b[0;34m)\u001b[0m\u001b[0;34m:\u001b[0m\u001b[0;34m\u001b[0m\u001b[0;34m\u001b[0m\u001b[0m\n\u001b[1;32m   3285\u001b[0m         \u001b[0;34m\"\"\"same as values (but handles sparseness conversions)\"\"\"\u001b[0m\u001b[0;34m\u001b[0m\u001b[0;34m\u001b[0m\u001b[0m\n\u001b[0;32m-> 3286\u001b[0;31m         \u001b[0;32mreturn\u001b[0m \u001b[0mself\u001b[0m\u001b[0;34m.\u001b[0m\u001b[0mas_matrix\u001b[0m\u001b[0;34m(\u001b[0m\u001b[0;34m)\u001b[0m\u001b[0;34m\u001b[0m\u001b[0;34m\u001b[0m\u001b[0m\n\u001b[0m\u001b[1;32m   3287\u001b[0m \u001b[0;34m\u001b[0m\u001b[0m\n\u001b[1;32m   3288\u001b[0m     \u001b[0;32mdef\u001b[0m \u001b[0mget_dtype_counts\u001b[0m\u001b[0;34m(\u001b[0m\u001b[0mself\u001b[0m\u001b[0;34m)\u001b[0m\u001b[0;34m:\u001b[0m\u001b[0;34m\u001b[0m\u001b[0;34m\u001b[0m\u001b[0m\n",
      "\u001b[0;32m/Users/fransiscasusan/anaconda3/lib/python3.6/site-packages/pandas/core/generic.py\u001b[0m in \u001b[0;36mas_matrix\u001b[0;34m(self, columns)\u001b[0m\n\u001b[1;32m   3251\u001b[0m         \u001b[0mself\u001b[0m\u001b[0;34m.\u001b[0m\u001b[0m_consolidate_inplace\u001b[0m\u001b[0;34m(\u001b[0m\u001b[0;34m)\u001b[0m\u001b[0;34m\u001b[0m\u001b[0;34m\u001b[0m\u001b[0m\n\u001b[1;32m   3252\u001b[0m         \u001b[0;32mif\u001b[0m \u001b[0mself\u001b[0m\u001b[0;34m.\u001b[0m\u001b[0m_AXIS_REVERSED\u001b[0m\u001b[0;34m:\u001b[0m\u001b[0;34m\u001b[0m\u001b[0;34m\u001b[0m\u001b[0m\n\u001b[0;32m-> 3253\u001b[0;31m             \u001b[0;32mreturn\u001b[0m \u001b[0mself\u001b[0m\u001b[0;34m.\u001b[0m\u001b[0m_data\u001b[0m\u001b[0;34m.\u001b[0m\u001b[0mas_matrix\u001b[0m\u001b[0;34m(\u001b[0m\u001b[0mcolumns\u001b[0m\u001b[0;34m)\u001b[0m\u001b[0;34m.\u001b[0m\u001b[0mT\u001b[0m\u001b[0;34m\u001b[0m\u001b[0;34m\u001b[0m\u001b[0m\n\u001b[0m\u001b[1;32m   3254\u001b[0m         \u001b[0;32mreturn\u001b[0m \u001b[0mself\u001b[0m\u001b[0;34m.\u001b[0m\u001b[0m_data\u001b[0m\u001b[0;34m.\u001b[0m\u001b[0mas_matrix\u001b[0m\u001b[0;34m(\u001b[0m\u001b[0mcolumns\u001b[0m\u001b[0;34m)\u001b[0m\u001b[0;34m\u001b[0m\u001b[0;34m\u001b[0m\u001b[0m\n\u001b[1;32m   3255\u001b[0m \u001b[0;34m\u001b[0m\u001b[0m\n",
      "\u001b[0;32m/Users/fransiscasusan/anaconda3/lib/python3.6/site-packages/pandas/core/internals.py\u001b[0m in \u001b[0;36mas_matrix\u001b[0;34m(self, items)\u001b[0m\n\u001b[1;32m   3448\u001b[0m             \u001b[0;32mreturn\u001b[0m \u001b[0mmgr\u001b[0m\u001b[0;34m.\u001b[0m\u001b[0mblocks\u001b[0m\u001b[0;34m[\u001b[0m\u001b[0;36m0\u001b[0m\u001b[0;34m]\u001b[0m\u001b[0;34m.\u001b[0m\u001b[0mget_values\u001b[0m\u001b[0;34m(\u001b[0m\u001b[0;34m)\u001b[0m\u001b[0;34m\u001b[0m\u001b[0;34m\u001b[0m\u001b[0m\n\u001b[1;32m   3449\u001b[0m         \u001b[0;32melse\u001b[0m\u001b[0;34m:\u001b[0m\u001b[0;34m\u001b[0m\u001b[0;34m\u001b[0m\u001b[0m\n\u001b[0;32m-> 3450\u001b[0;31m             \u001b[0;32mreturn\u001b[0m \u001b[0mmgr\u001b[0m\u001b[0;34m.\u001b[0m\u001b[0m_interleave\u001b[0m\u001b[0;34m(\u001b[0m\u001b[0;34m)\u001b[0m\u001b[0;34m\u001b[0m\u001b[0;34m\u001b[0m\u001b[0m\n\u001b[0m\u001b[1;32m   3451\u001b[0m \u001b[0;34m\u001b[0m\u001b[0m\n\u001b[1;32m   3452\u001b[0m     \u001b[0;32mdef\u001b[0m \u001b[0m_interleave\u001b[0m\u001b[0;34m(\u001b[0m\u001b[0mself\u001b[0m\u001b[0;34m)\u001b[0m\u001b[0;34m:\u001b[0m\u001b[0;34m\u001b[0m\u001b[0;34m\u001b[0m\u001b[0m\n",
      "\u001b[0;32m/Users/fransiscasusan/anaconda3/lib/python3.6/site-packages/pandas/core/internals.py\u001b[0m in \u001b[0;36m_interleave\u001b[0;34m(self)\u001b[0m\n\u001b[1;32m   3457\u001b[0m         \u001b[0mdtype\u001b[0m \u001b[0;34m=\u001b[0m \u001b[0m_interleaved_dtype\u001b[0m\u001b[0;34m(\u001b[0m\u001b[0mself\u001b[0m\u001b[0;34m.\u001b[0m\u001b[0mblocks\u001b[0m\u001b[0;34m)\u001b[0m\u001b[0;34m\u001b[0m\u001b[0;34m\u001b[0m\u001b[0m\n\u001b[1;32m   3458\u001b[0m \u001b[0;34m\u001b[0m\u001b[0m\n\u001b[0;32m-> 3459\u001b[0;31m         \u001b[0mresult\u001b[0m \u001b[0;34m=\u001b[0m \u001b[0mnp\u001b[0m\u001b[0;34m.\u001b[0m\u001b[0mempty\u001b[0m\u001b[0;34m(\u001b[0m\u001b[0mself\u001b[0m\u001b[0;34m.\u001b[0m\u001b[0mshape\u001b[0m\u001b[0;34m,\u001b[0m \u001b[0mdtype\u001b[0m\u001b[0;34m=\u001b[0m\u001b[0mdtype\u001b[0m\u001b[0;34m)\u001b[0m\u001b[0;34m\u001b[0m\u001b[0;34m\u001b[0m\u001b[0m\n\u001b[0m\u001b[1;32m   3460\u001b[0m \u001b[0;34m\u001b[0m\u001b[0m\n\u001b[1;32m   3461\u001b[0m         \u001b[0;32mif\u001b[0m \u001b[0mresult\u001b[0m\u001b[0;34m.\u001b[0m\u001b[0mshape\u001b[0m\u001b[0;34m[\u001b[0m\u001b[0;36m0\u001b[0m\u001b[0;34m]\u001b[0m \u001b[0;34m==\u001b[0m \u001b[0;36m0\u001b[0m\u001b[0;34m:\u001b[0m\u001b[0;34m\u001b[0m\u001b[0;34m\u001b[0m\u001b[0m\n",
      "\u001b[0;31mKeyboardInterrupt\u001b[0m: "
     ]
    }
   ],
   "source": [
    "### optional: examples of k-fold cross validation ###\n",
    "# k-fold cross validation can help you compare the classification models\n",
    "from sklearn.model_selection import KFold\n",
    "n = 5 # here we choose a 10 fold cross validation\n",
    "kf = KFold(n_splits = n)\n",
    "# X_train, X_test, y_train = read_data_small()\n",
    "# X_train, X_test, y_train = balance_data(X_train, X_test, y_train)\n",
    "kf.get_n_splits(X_train)\n",
    "# print(kf)\n",
    "kf_scores = pd.DataFrame(np.zeros([n,2]), columns=[\"train score\", \"test score\"])\n",
    "rowindex = 0\n",
    "for train_index, test_index in kf.split(X_train):\n",
    "    print(\"TRAIN:\", train_index, \"TEST:\", test_index)\n",
    "#     print(X_train.index)\n",
    "#     print(y_train)\n",
    "    X_train_kf, X_test_kf = X_train.iloc[train_index], X_train.iloc[test_index]\n",
    "    y_train_kf, y_test_kf = y_train[train_index], y_train[test_index]\n",
    "    y_train_prob_pred_kf, y_test_prob_pred_kf = detect_spoofying_GBC(X_train_kf, X_test_kf, y_train_kf)\n",
    "    score_train_kf = score(y_train_prob_pred_kf, y_train_kf)\n",
    "    score_test_kf = score(y_test_prob_pred_kf, y_test_kf)\n",
    "    kf_scores.iloc[rowindex, 0] = score_train_kf\n",
    "    kf_scores.iloc[rowindex, 1] = score_test_kf\n",
    "    print(score_train_kf, score_test_kf)\n",
    "    rowindex += 1"
   ]
  },
  {
   "cell_type": "code",
   "execution_count": null,
   "metadata": {
    "collapsed": true
   },
   "outputs": [],
   "source": [
    "kf_scores"
   ]
  },
  {
   "cell_type": "code",
   "execution_count": null,
   "metadata": {
    "collapsed": true
   },
   "outputs": [],
   "source": [
    "score_train, y_train_prob_pred, y_test_prob_pred = wrapper(detect_spoofying_GBC)"
   ]
  },
  {
   "cell_type": "code",
   "execution_count": null,
   "metadata": {
    "collapsed": true
   },
   "outputs": [],
   "source": [
    "score_train"
   ]
  },
  {
   "cell_type": "code",
   "execution_count": null,
   "metadata": {
    "collapsed": true
   },
   "outputs": [],
   "source": [
    "pd.DataFrame(y_train_prob_pred).to_csv(\"y_train_prob_pred.csv\")\n",
    "pd.DataFrame(y_test_prob_pred).to_csv(\"y_test_prob_pred.csv\")"
   ]
  },
  {
   "cell_type": "code",
   "execution_count": null,
   "metadata": {
    "collapsed": true
   },
   "outputs": [],
   "source": [
    "score_train, y_train_prob_pred, y_test_prob_pred = wrapper(detect_spoofying_GBC)\n",
    "score_train"
   ]
  },
  {
   "cell_type": "code",
   "execution_count": null,
   "metadata": {
    "collapsed": true
   },
   "outputs": [],
   "source": [
    "pd.DataFrame(y_train_prob_pred).to_csv(\"y_train_prob_pred.csv\")\n",
    "pd.DataFrame(y_test_prob_pred).to_csv(\"y_test_prob_pred.csv\")"
   ]
  },
  {
   "cell_type": "markdown",
   "metadata": {},
   "source": [
    "# BATCH"
   ]
  },
  {
   "cell_type": "code",
   "execution_count": null,
   "metadata": {
    "collapsed": false
   },
   "outputs": [],
   "source": [
    "X_train = pd.read_csv(\"bigLabeledData.csv\")"
   ]
  },
  {
   "cell_type": "code",
   "execution_count": null,
   "metadata": {
    "collapsed": false
   },
   "outputs": [],
   "source": [
    "X_clean = format_data(pd.concat([X_train, X_test]))\n",
    "X_train_clean = X_clean.iloc[:X_train.shape[0],:]\n",
    "X_test_clean = X_clean.iloc[X_train.shape[0]:,:]\n",
    "X_train_clean_scaled = scale(X_train_clean)\n",
    "X_test_clean_scaled = scale(X_test_clean)"
   ]
  },
  {
   "cell_type": "code",
   "execution_count": null,
   "metadata": {
    "collapsed": false
   },
   "outputs": [],
   "source": [
    "# fit classifier\n",
    "clf = GradientBoostingClassifier(n_estimators=35, learning_rate=0.5,\n",
    "    max_depth=3, random_state=3).fit(X_train_clean_scaled, y_train)\n",
    "# clf = LogisticRegression(random_state=0, class_weight='balanced').fit(X_train_clean_scaled, y_train)"
   ]
  },
  {
   "cell_type": "code",
   "execution_count": null,
   "metadata": {
    "collapsed": false
   },
   "outputs": [],
   "source": [
    "dump(clf, 'gbc.joblib')"
   ]
  },
  {
   "cell_type": "code",
   "execution_count": null,
   "metadata": {
    "collapsed": false
   },
   "outputs": [],
   "source": [
    "y_train_prob_pred = clf.predict_proba(X_train_clean_scaled)\n",
    "y_test_prob_pred = clf.predict_proba(X_test_clean_scaled)"
   ]
  },
  {
   "cell_type": "code",
   "execution_count": null,
   "metadata": {
    "collapsed": false
   },
   "outputs": [],
   "source": [
    "pd.DataFrame(y_train_prob_pred).to_csv(\"y_train_prob_pred.csv\")\n",
    "pd.DataFrame(y_test_prob_pred).to_csv(\"y_test_prob_pred.csv\")"
   ]
  },
  {
   "cell_type": "markdown",
   "metadata": {},
   "source": [
    "# LSTM"
   ]
  },
  {
   "cell_type": "code",
   "execution_count": null,
   "metadata": {
    "collapsed": true
   },
   "outputs": [],
   "source": [
    "X_train_clean_scaled.shape"
   ]
  },
  {
   "cell_type": "code",
   "execution_count": null,
   "metadata": {
    "collapsed": true
   },
   "outputs": [],
   "source": [
    "import torch\n",
    "import torch.nn as nn\n",
    "import torch.nn.functional as F\n",
    "import torch.optim as optim"
   ]
  },
  {
   "cell_type": "code",
   "execution_count": null,
   "metadata": {
    "collapsed": false
   },
   "outputs": [],
   "source": [
    "model = nn.Sequential()"
   ]
  },
  {
   "cell_type": "code",
   "execution_count": null,
   "metadata": {
    "collapsed": true
   },
   "outputs": [],
   "source": [
    "model.add(LSTM(50, activation='relu', input_shape=(n_steps, n_features)))\n",
    "model.add(Dense(1))\n",
    "model.compile(optimizer='adam', loss='mse')"
   ]
  },
  {
   "cell_type": "code",
   "execution_count": null,
   "metadata": {
    "collapsed": true
   },
   "outputs": [],
   "source": [
    "# define model\n",
    "model = Sequential()\n",
    "model.add(LSTM(50, activation='relu', input_shape=(n_steps, n_features)))\n",
    "model.add(Dense(1))\n",
    "model.compile(optimizer='adam', loss='mse')"
   ]
  },
  {
   "cell_type": "code",
   "execution_count": null,
   "metadata": {
    "collapsed": true
   },
   "outputs": [],
   "source": []
  }
 ],
 "metadata": {
  "kernelspec": {
   "display_name": "Python 3",
   "language": "python",
   "name": "python3"
  },
  "language_info": {
   "codemirror_mode": {
    "name": "ipython",
    "version": 3
   },
   "file_extension": ".py",
   "mimetype": "text/x-python",
   "name": "python",
   "nbconvert_exporter": "python",
   "pygments_lexer": "ipython3",
   "version": "3.6.7"
  }
 },
 "nbformat": 4,
 "nbformat_minor": 2
}
